{
  "nbformat": 4,
  "nbformat_minor": 0,
  "metadata": {
    "colab": {
      "provenance": [],
      "toc_visible": true
    },
    "kernelspec": {
      "display_name": "Python 3",
      "language": "python",
      "name": "python3"
    },
    "language_info": {
      "codemirror_mode": {
        "name": "ipython",
        "version": 3
      },
      "file_extension": ".py",
      "mimetype": "text/x-python",
      "name": "python",
      "nbconvert_exporter": "python",
      "pygments_lexer": "ipython3",
      "version": "3.7.4"
    }
  },
  "cells": [
    {
      "cell_type": "markdown",
      "metadata": {
        "id": "8tVohxl8SM51"
      },
      "source": [
        "Alexandre CARRE*, Marvin LEROUSSEAU, Enzo BATTISTELLA, Rahimeh ROUHI <img align=\"right\" width=\"400\" height=\"40\" src=\"images/epu_ia_logo.png\"> <br> *alexandre.carre@gustaveroussy.fr (Notebook conception) <br> marvin.lerousseau@gustaveroussy.fr (Notebook revision) <br> enzo.battistella@gustaveroussy.fr (Notebook revision)<br>\n",
        "rahimeh.rouhi@gustaveroussy.fr (Notebook revision)"
      ]
    },
    {
      "cell_type": "markdown",
      "metadata": {
        "id": "2npMmVzzSM5-"
      },
      "source": [
        "# TP2: MACHINE LEARNING APPLICATION"
      ]
    },
    {
      "cell_type": "markdown",
      "metadata": {
        "id": "T7-DWgNWSM6F"
      },
      "source": [
        "Following the previous nootbook, in this notebook, you will learn the general fundamental of machine learning applied to a classification task which is LGG vs GBM (binary classification). Of course, the aim is not to find the best pipeline with the best algorithm for this task but to understand the principle concept. First, download necessary materials for the afternoon practical sessions."
      ]
    },
    {
      "cell_type": "code",
      "metadata": {
        "id": "5Qc9iPlKTFG1",
        "colab": {
          "base_uri": "https://localhost:8080/"
        },
        "outputId": "6dbab705-7521-44a9-b79f-96f575e2d4fc"
      },
      "source": [
        "!git clone https://github.com/maichi98/EPU-IA-2023.git\n",
        "%cd EPU-IA-2023/"
      ],
      "execution_count": 4,
      "outputs": [
        {
          "output_type": "stream",
          "name": "stdout",
          "text": [
            "Cloning into 'EPU-IA-2023'...\n",
            "remote: Enumerating objects: 156, done.\u001b[K\n",
            "remote: Total 156 (delta 0), reused 0 (delta 0), pack-reused 156\u001b[K\n",
            "Receiving objects: 100% (156/156), 161.29 MiB | 22.64 MiB/s, done.\n",
            "Resolving deltas: 100% (3/3), done.\n",
            "Updating files: 100% (127/127), done.\n",
            "/content/EPU-IA-2023/EPU-IA-2023\n"
          ]
        }
      ]
    },
    {
      "cell_type": "markdown",
      "metadata": {
        "id": "9Xr5AtWvSM6L"
      },
      "source": [
        "### Installation of python dependencies"
      ]
    },
    {
      "cell_type": "code",
      "metadata": {
        "id": "MDhXnJMmSM6P",
        "scrolled": true,
        "colab": {
          "base_uri": "https://localhost:8080/"
        },
        "outputId": "e169ec8c-f014-4a4a-c3d2-77172b154c04"
      },
      "source": [
        "!pip install scikit-learn pandas matplotlib numpy"
      ],
      "execution_count": 5,
      "outputs": [
        {
          "output_type": "stream",
          "name": "stdout",
          "text": [
            "Requirement already satisfied: scikit-learn in /usr/local/lib/python3.10/dist-packages (1.2.2)\n",
            "Requirement already satisfied: pandas in /usr/local/lib/python3.10/dist-packages (1.5.3)\n",
            "Requirement already satisfied: matplotlib in /usr/local/lib/python3.10/dist-packages (3.7.1)\n",
            "Requirement already satisfied: numpy in /usr/local/lib/python3.10/dist-packages (1.25.2)\n",
            "Requirement already satisfied: scipy>=1.3.2 in /usr/local/lib/python3.10/dist-packages (from scikit-learn) (1.11.4)\n",
            "Requirement already satisfied: joblib>=1.1.1 in /usr/local/lib/python3.10/dist-packages (from scikit-learn) (1.3.2)\n",
            "Requirement already satisfied: threadpoolctl>=2.0.0 in /usr/local/lib/python3.10/dist-packages (from scikit-learn) (3.2.0)\n",
            "Requirement already satisfied: python-dateutil>=2.8.1 in /usr/local/lib/python3.10/dist-packages (from pandas) (2.8.2)\n",
            "Requirement already satisfied: pytz>=2020.1 in /usr/local/lib/python3.10/dist-packages (from pandas) (2023.4)\n",
            "Requirement already satisfied: contourpy>=1.0.1 in /usr/local/lib/python3.10/dist-packages (from matplotlib) (1.2.0)\n",
            "Requirement already satisfied: cycler>=0.10 in /usr/local/lib/python3.10/dist-packages (from matplotlib) (0.12.1)\n",
            "Requirement already satisfied: fonttools>=4.22.0 in /usr/local/lib/python3.10/dist-packages (from matplotlib) (4.48.1)\n",
            "Requirement already satisfied: kiwisolver>=1.0.1 in /usr/local/lib/python3.10/dist-packages (from matplotlib) (1.4.5)\n",
            "Requirement already satisfied: packaging>=20.0 in /usr/local/lib/python3.10/dist-packages (from matplotlib) (23.2)\n",
            "Requirement already satisfied: pillow>=6.2.0 in /usr/local/lib/python3.10/dist-packages (from matplotlib) (9.4.0)\n",
            "Requirement already satisfied: pyparsing>=2.3.1 in /usr/local/lib/python3.10/dist-packages (from matplotlib) (3.1.1)\n",
            "Requirement already satisfied: six>=1.5 in /usr/local/lib/python3.10/dist-packages (from python-dateutil>=2.8.1->pandas) (1.16.0)\n"
          ]
        }
      ]
    },
    {
      "cell_type": "markdown",
      "metadata": {
        "id": "jfe1L4HDSM6j"
      },
      "source": [
        "\n",
        "## General Machine Learning Steps\n",
        "\n",
        "Before we start, let's review the general machine learning steps:\n",
        "\n",
        "1. Data collection, preprocessing (e.g., integration, cleaning, etc.), and exploration;\n",
        "   - Split a dataset into the **training** and **testing** datasets\n",
        "2. Model development:  \n",
        "    A. Assume a model $\\{f\\}$ that is a collection of candidate functions $f$’s (representing posteriori knowledge) we want to discover. Let's assume that each $f$ is parametrized by ${w}$  \n",
        "    B.Define a **cost function** $C({w})$ that measures \"how good a particular $f$ can explain the training data.\" The lower the cost function the better;  \n",
        "3. **Training:** employ an algorithm that finds the best (or good enough) function $f^{*}$ in the model that minimizes the cost function over the training dataset\n",
        "4. **Testing**: evaluate the performance of the learned $f^{*}$ using the testing dataset;\n",
        "5. Apply the model in the real world."
      ]
    },
    {
      "cell_type": "markdown",
      "metadata": {
        "id": "mxO1e7MiSM6o"
      },
      "source": [
        "## Load data"
      ]
    },
    {
      "cell_type": "code",
      "metadata": {
        "id": "1SS9HJy5SM6r",
        "colab": {
          "base_uri": "https://localhost:8080/",
          "height": 700
        },
        "outputId": "621f2be9-187d-4e91-d66d-38890b191b11"
      },
      "source": [
        "import pandas as pd\n",
        "from IPython.display import display\n",
        "\n",
        "path_dataset = './data/radiomics_analysis_cleaned.csv'\n",
        "\n",
        "data = pd.read_csv(path_dataset)\n",
        "# we will only work with the full area segmentation with all sequences\n",
        "data = data[data['segmentation']=='full']\n",
        "\n",
        "data = data.pivot_table(index=['patient', 'label'],\n",
        "                                columns=['sequence', 'segmentation'],\n",
        "                                values=data.columns[4:])\n",
        "data.columns = ['_'.join(col).strip() for col in data.columns.values]\n",
        "data.reset_index(level=1, inplace=True)\n",
        "\n",
        "display(data)\n",
        "\n",
        "# Convert LGG into class 0 and HGG into class 1\n",
        "data.loc[data['label'] == 'HGG', 'label'] = 1\n",
        "data.loc[data['label'] == 'LGG', 'label'] = 0"
      ],
      "execution_count": 6,
      "outputs": [
        {
          "output_type": "display_data",
          "data": {
            "text/plain": [
              "             label  original_firstorder_10Percentile_flair_full  \\\n",
              "patient                                                           \n",
              "TCGA-02-0003   HGG                                   144.118668   \n",
              "TCGA-02-0006   HGG                                   116.257912   \n",
              "TCGA-02-0009   HGG                                    90.176323   \n",
              "TCGA-02-0011   HGG                                    64.619064   \n",
              "TCGA-02-0027   HGG                                    86.231560   \n",
              "...            ...                                          ...   \n",
              "TCGA-HT-8114   LGG                                   105.555672   \n",
              "TCGA-HT-8563   LGG                                   107.853134   \n",
              "TCGA-HT-A5RC   LGG                                   132.378906   \n",
              "TCGA-HT-A614   LGG                                  -189.750610   \n",
              "TCGA-HT-A61A   LGG                                    27.535517   \n",
              "\n",
              "              original_firstorder_10Percentile_t1_full  \\\n",
              "patient                                                  \n",
              "TCGA-02-0003                                -37.915257   \n",
              "TCGA-02-0006                                -89.206642   \n",
              "TCGA-02-0009                                -26.945517   \n",
              "TCGA-02-0011                                -72.600388   \n",
              "TCGA-02-0027                                -21.451303   \n",
              "...                                                ...   \n",
              "TCGA-HT-8114                                -63.724358   \n",
              "TCGA-HT-8563                                -13.839657   \n",
              "TCGA-HT-A5RC                                -53.662895   \n",
              "TCGA-HT-A614                               -129.057861   \n",
              "TCGA-HT-A61A                               -111.265610   \n",
              "\n",
              "              original_firstorder_10Percentile_t1ce_full  \\\n",
              "patient                                                    \n",
              "TCGA-02-0003                                    3.103941   \n",
              "TCGA-02-0006                                  -94.285591   \n",
              "TCGA-02-0009                                   -8.762620   \n",
              "TCGA-02-0011                                  -51.918762   \n",
              "TCGA-02-0027                                  -61.386211   \n",
              "...                                                  ...   \n",
              "TCGA-HT-8114                                 -142.988251   \n",
              "TCGA-HT-8563                                 -107.915237   \n",
              "TCGA-HT-A5RC                                  -43.392906   \n",
              "TCGA-HT-A614                                 -142.548935   \n",
              "TCGA-HT-A61A                                 -129.352097   \n",
              "\n",
              "              original_firstorder_10Percentile_t2_full  \\\n",
              "patient                                                  \n",
              "TCGA-02-0003                                 46.780552   \n",
              "TCGA-02-0006                                -24.314096   \n",
              "TCGA-02-0009                                -32.354511   \n",
              "TCGA-02-0011                                  4.858555   \n",
              "TCGA-02-0027                                  0.316952   \n",
              "...                                                ...   \n",
              "TCGA-HT-8114                                  5.321779   \n",
              "TCGA-HT-8563                                 41.547455   \n",
              "TCGA-HT-A5RC                                -14.490097   \n",
              "TCGA-HT-A614                                -67.626572   \n",
              "TCGA-HT-A61A                                 -0.111687   \n",
              "\n",
              "              original_firstorder_90Percentile_flair_full  \\\n",
              "patient                                                     \n",
              "TCGA-02-0003                                   373.385712   \n",
              "TCGA-02-0006                                   423.313324   \n",
              "TCGA-02-0009                                   225.455673   \n",
              "TCGA-02-0011                                   361.840515   \n",
              "TCGA-02-0027                                   318.213013   \n",
              "...                                                   ...   \n",
              "TCGA-HT-8114                                   303.597015   \n",
              "TCGA-HT-8563                                   343.804901   \n",
              "TCGA-HT-A5RC                                   300.511658   \n",
              "TCGA-HT-A614                                   250.198044   \n",
              "TCGA-HT-A61A                                   252.841187   \n",
              "\n",
              "              original_firstorder_90Percentile_t1_full  \\\n",
              "patient                                                  \n",
              "TCGA-02-0003                                 95.536186   \n",
              "TCGA-02-0006                                 44.255459   \n",
              "TCGA-02-0009                                113.102806   \n",
              "TCGA-02-0011                                110.048798   \n",
              "TCGA-02-0027                                142.173523   \n",
              "...                                                ...   \n",
              "TCGA-HT-8114                                112.424210   \n",
              "TCGA-HT-8563                                 81.128136   \n",
              "TCGA-HT-A5RC                                 75.641731   \n",
              "TCGA-HT-A614                                 82.339119   \n",
              "TCGA-HT-A61A                                 43.893410   \n",
              "\n",
              "              original_firstorder_90Percentile_t1ce_full  \\\n",
              "patient                                                    \n",
              "TCGA-02-0003                                  288.818451   \n",
              "TCGA-02-0006                                   37.271446   \n",
              "TCGA-02-0009                                  152.701782   \n",
              "TCGA-02-0011                                  177.660934   \n",
              "TCGA-02-0027                                  210.579803   \n",
              "...                                                  ...   \n",
              "TCGA-HT-8114                                   39.730719   \n",
              "TCGA-HT-8563                                   50.434380   \n",
              "TCGA-HT-A5RC                                  214.946136   \n",
              "TCGA-HT-A614                                   61.333740   \n",
              "TCGA-HT-A61A                                   48.524246   \n",
              "\n",
              "              original_firstorder_90Percentile_t2_full  \\\n",
              "patient                                                  \n",
              "TCGA-02-0003                                216.258804   \n",
              "TCGA-02-0006                                128.743958   \n",
              "TCGA-02-0009                                 71.986130   \n",
              "TCGA-02-0011                                303.965820   \n",
              "TCGA-02-0027                                311.565369   \n",
              "...                                                ...   \n",
              "TCGA-HT-8114                                230.225479   \n",
              "TCGA-HT-8563                                214.858383   \n",
              "TCGA-HT-A5RC                                117.851212   \n",
              "TCGA-HT-A614                                277.827911   \n",
              "TCGA-HT-A61A                                175.042496   \n",
              "\n",
              "              original_firstorder_Energy_flair_full  ...  \\\n",
              "patient                                              ...   \n",
              "TCGA-02-0003                           2.470281e+10  ...   \n",
              "TCGA-02-0006                           1.147067e+10  ...   \n",
              "TCGA-02-0009                           5.131474e+09  ...   \n",
              "TCGA-02-0011                           3.725537e+10  ...   \n",
              "TCGA-02-0027                           1.366329e+10  ...   \n",
              "...                                             ...  ...   \n",
              "TCGA-HT-8114                           5.211240e+10  ...   \n",
              "TCGA-HT-8563                           4.311416e+10  ...   \n",
              "TCGA-HT-A5RC                           1.783356e+10  ...   \n",
              "TCGA-HT-A614                           1.885509e+10  ...   \n",
              "TCGA-HT-A61A                           2.773430e+10  ...   \n",
              "\n",
              "              original_shape_SurfaceArea_t1ce_full  \\\n",
              "patient                                              \n",
              "TCGA-02-0003                          18552.213339   \n",
              "TCGA-02-0006                          14069.926539   \n",
              "TCGA-02-0009                           8589.699469   \n",
              "TCGA-02-0011                          23198.153661   \n",
              "TCGA-02-0027                          11398.987373   \n",
              "...                                            ...   \n",
              "TCGA-HT-8114                          21896.327956   \n",
              "TCGA-HT-8563                          21457.413791   \n",
              "TCGA-HT-A5RC                          19835.667125   \n",
              "TCGA-HT-A614                          22465.372639   \n",
              "TCGA-HT-A61A                          23353.248689   \n",
              "\n",
              "              original_shape_SurfaceArea_t2_full  \\\n",
              "patient                                            \n",
              "TCGA-02-0003                        18552.213339   \n",
              "TCGA-02-0006                        14069.926539   \n",
              "TCGA-02-0009                         8589.699469   \n",
              "TCGA-02-0011                        23198.153661   \n",
              "TCGA-02-0027                        11398.987373   \n",
              "...                                          ...   \n",
              "TCGA-HT-8114                        21896.327956   \n",
              "TCGA-HT-8563                        21457.413791   \n",
              "TCGA-HT-A5RC                        19835.667125   \n",
              "TCGA-HT-A614                        22465.372639   \n",
              "TCGA-HT-A61A                        23353.248689   \n",
              "\n",
              "              original_shape_SurfaceVolumeRatio_flair_full  \\\n",
              "patient                                                      \n",
              "TCGA-02-0003                                      0.235856   \n",
              "TCGA-02-0006                                      0.370668   \n",
              "TCGA-02-0009                                      0.352593   \n",
              "TCGA-02-0011                                      0.181913   \n",
              "TCGA-02-0027                                      0.212541   \n",
              "...                                                    ...   \n",
              "TCGA-HT-8114                                      0.116140   \n",
              "TCGA-HT-8563                                      0.141783   \n",
              "TCGA-HT-A5RC                                      0.304579   \n",
              "TCGA-HT-A614                                      0.210272   \n",
              "TCGA-HT-A61A                                      0.171528   \n",
              "\n",
              "              original_shape_SurfaceVolumeRatio_t1_full  \\\n",
              "patient                                                   \n",
              "TCGA-02-0003                                   0.235856   \n",
              "TCGA-02-0006                                   0.370668   \n",
              "TCGA-02-0009                                   0.352593   \n",
              "TCGA-02-0011                                   0.181913   \n",
              "TCGA-02-0027                                   0.212541   \n",
              "...                                                 ...   \n",
              "TCGA-HT-8114                                   0.116140   \n",
              "TCGA-HT-8563                                   0.141783   \n",
              "TCGA-HT-A5RC                                   0.304579   \n",
              "TCGA-HT-A614                                   0.210272   \n",
              "TCGA-HT-A61A                                   0.171528   \n",
              "\n",
              "              original_shape_SurfaceVolumeRatio_t1ce_full  \\\n",
              "patient                                                     \n",
              "TCGA-02-0003                                     0.235856   \n",
              "TCGA-02-0006                                     0.370668   \n",
              "TCGA-02-0009                                     0.352593   \n",
              "TCGA-02-0011                                     0.181913   \n",
              "TCGA-02-0027                                     0.212541   \n",
              "...                                                   ...   \n",
              "TCGA-HT-8114                                     0.116140   \n",
              "TCGA-HT-8563                                     0.141783   \n",
              "TCGA-HT-A5RC                                     0.304579   \n",
              "TCGA-HT-A614                                     0.210272   \n",
              "TCGA-HT-A61A                                     0.171528   \n",
              "\n",
              "              original_shape_SurfaceVolumeRatio_t2_full  \\\n",
              "patient                                                   \n",
              "TCGA-02-0003                                   0.235856   \n",
              "TCGA-02-0006                                   0.370668   \n",
              "TCGA-02-0009                                   0.352593   \n",
              "TCGA-02-0011                                   0.181913   \n",
              "TCGA-02-0027                                   0.212541   \n",
              "...                                                 ...   \n",
              "TCGA-HT-8114                                   0.116140   \n",
              "TCGA-HT-8563                                   0.141783   \n",
              "TCGA-HT-A5RC                                   0.304579   \n",
              "TCGA-HT-A614                                   0.210272   \n",
              "TCGA-HT-A61A                                   0.171528   \n",
              "\n",
              "              original_shape_VoxelVolume_flair_full  \\\n",
              "patient                                               \n",
              "TCGA-02-0003                                78933.0   \n",
              "TCGA-02-0006                                38314.0   \n",
              "TCGA-02-0009                                24434.0   \n",
              "TCGA-02-0011                               127812.0   \n",
              "TCGA-02-0027                                53787.0   \n",
              "...                                             ...   \n",
              "TCGA-HT-8114                               188686.0   \n",
              "TCGA-HT-8563                               151508.0   \n",
              "TCGA-HT-A5RC                                65454.0   \n",
              "TCGA-HT-A614                               107112.0   \n",
              "TCGA-HT-A61A                               136334.0   \n",
              "\n",
              "              original_shape_VoxelVolume_t1_full  \\\n",
              "patient                                            \n",
              "TCGA-02-0003                             78933.0   \n",
              "TCGA-02-0006                             38314.0   \n",
              "TCGA-02-0009                             24434.0   \n",
              "TCGA-02-0011                            127812.0   \n",
              "TCGA-02-0027                             53787.0   \n",
              "...                                          ...   \n",
              "TCGA-HT-8114                            188686.0   \n",
              "TCGA-HT-8563                            151508.0   \n",
              "TCGA-HT-A5RC                             65454.0   \n",
              "TCGA-HT-A614                            107112.0   \n",
              "TCGA-HT-A61A                            136334.0   \n",
              "\n",
              "              original_shape_VoxelVolume_t1ce_full  \\\n",
              "patient                                              \n",
              "TCGA-02-0003                               78933.0   \n",
              "TCGA-02-0006                               38314.0   \n",
              "TCGA-02-0009                               24434.0   \n",
              "TCGA-02-0011                              127812.0   \n",
              "TCGA-02-0027                               53787.0   \n",
              "...                                            ...   \n",
              "TCGA-HT-8114                              188686.0   \n",
              "TCGA-HT-8563                              151508.0   \n",
              "TCGA-HT-A5RC                               65454.0   \n",
              "TCGA-HT-A614                              107112.0   \n",
              "TCGA-HT-A61A                              136334.0   \n",
              "\n",
              "              original_shape_VoxelVolume_t2_full  \n",
              "patient                                           \n",
              "TCGA-02-0003                             78933.0  \n",
              "TCGA-02-0006                             38314.0  \n",
              "TCGA-02-0009                             24434.0  \n",
              "TCGA-02-0011                            127812.0  \n",
              "TCGA-02-0027                             53787.0  \n",
              "...                                          ...  \n",
              "TCGA-HT-8114                            188686.0  \n",
              "TCGA-HT-8563                            151508.0  \n",
              "TCGA-HT-A5RC                             65454.0  \n",
              "TCGA-HT-A614                            107112.0  \n",
              "TCGA-HT-A61A                            136334.0  \n",
              "\n",
              "[243 rows x 401 columns]"
            ],
            "text/html": [
              "\n",
              "  <div id=\"df-1be95275-a265-48e6-b2ac-4d8d7f989fd1\" class=\"colab-df-container\">\n",
              "    <div>\n",
              "<style scoped>\n",
              "    .dataframe tbody tr th:only-of-type {\n",
              "        vertical-align: middle;\n",
              "    }\n",
              "\n",
              "    .dataframe tbody tr th {\n",
              "        vertical-align: top;\n",
              "    }\n",
              "\n",
              "    .dataframe thead th {\n",
              "        text-align: right;\n",
              "    }\n",
              "</style>\n",
              "<table border=\"1\" class=\"dataframe\">\n",
              "  <thead>\n",
              "    <tr style=\"text-align: right;\">\n",
              "      <th></th>\n",
              "      <th>label</th>\n",
              "      <th>original_firstorder_10Percentile_flair_full</th>\n",
              "      <th>original_firstorder_10Percentile_t1_full</th>\n",
              "      <th>original_firstorder_10Percentile_t1ce_full</th>\n",
              "      <th>original_firstorder_10Percentile_t2_full</th>\n",
              "      <th>original_firstorder_90Percentile_flair_full</th>\n",
              "      <th>original_firstorder_90Percentile_t1_full</th>\n",
              "      <th>original_firstorder_90Percentile_t1ce_full</th>\n",
              "      <th>original_firstorder_90Percentile_t2_full</th>\n",
              "      <th>original_firstorder_Energy_flair_full</th>\n",
              "      <th>...</th>\n",
              "      <th>original_shape_SurfaceArea_t1ce_full</th>\n",
              "      <th>original_shape_SurfaceArea_t2_full</th>\n",
              "      <th>original_shape_SurfaceVolumeRatio_flair_full</th>\n",
              "      <th>original_shape_SurfaceVolumeRatio_t1_full</th>\n",
              "      <th>original_shape_SurfaceVolumeRatio_t1ce_full</th>\n",
              "      <th>original_shape_SurfaceVolumeRatio_t2_full</th>\n",
              "      <th>original_shape_VoxelVolume_flair_full</th>\n",
              "      <th>original_shape_VoxelVolume_t1_full</th>\n",
              "      <th>original_shape_VoxelVolume_t1ce_full</th>\n",
              "      <th>original_shape_VoxelVolume_t2_full</th>\n",
              "    </tr>\n",
              "    <tr>\n",
              "      <th>patient</th>\n",
              "      <th></th>\n",
              "      <th></th>\n",
              "      <th></th>\n",
              "      <th></th>\n",
              "      <th></th>\n",
              "      <th></th>\n",
              "      <th></th>\n",
              "      <th></th>\n",
              "      <th></th>\n",
              "      <th></th>\n",
              "      <th></th>\n",
              "      <th></th>\n",
              "      <th></th>\n",
              "      <th></th>\n",
              "      <th></th>\n",
              "      <th></th>\n",
              "      <th></th>\n",
              "      <th></th>\n",
              "      <th></th>\n",
              "      <th></th>\n",
              "      <th></th>\n",
              "    </tr>\n",
              "  </thead>\n",
              "  <tbody>\n",
              "    <tr>\n",
              "      <th>TCGA-02-0003</th>\n",
              "      <td>HGG</td>\n",
              "      <td>144.118668</td>\n",
              "      <td>-37.915257</td>\n",
              "      <td>3.103941</td>\n",
              "      <td>46.780552</td>\n",
              "      <td>373.385712</td>\n",
              "      <td>95.536186</td>\n",
              "      <td>288.818451</td>\n",
              "      <td>216.258804</td>\n",
              "      <td>2.470281e+10</td>\n",
              "      <td>...</td>\n",
              "      <td>18552.213339</td>\n",
              "      <td>18552.213339</td>\n",
              "      <td>0.235856</td>\n",
              "      <td>0.235856</td>\n",
              "      <td>0.235856</td>\n",
              "      <td>0.235856</td>\n",
              "      <td>78933.0</td>\n",
              "      <td>78933.0</td>\n",
              "      <td>78933.0</td>\n",
              "      <td>78933.0</td>\n",
              "    </tr>\n",
              "    <tr>\n",
              "      <th>TCGA-02-0006</th>\n",
              "      <td>HGG</td>\n",
              "      <td>116.257912</td>\n",
              "      <td>-89.206642</td>\n",
              "      <td>-94.285591</td>\n",
              "      <td>-24.314096</td>\n",
              "      <td>423.313324</td>\n",
              "      <td>44.255459</td>\n",
              "      <td>37.271446</td>\n",
              "      <td>128.743958</td>\n",
              "      <td>1.147067e+10</td>\n",
              "      <td>...</td>\n",
              "      <td>14069.926539</td>\n",
              "      <td>14069.926539</td>\n",
              "      <td>0.370668</td>\n",
              "      <td>0.370668</td>\n",
              "      <td>0.370668</td>\n",
              "      <td>0.370668</td>\n",
              "      <td>38314.0</td>\n",
              "      <td>38314.0</td>\n",
              "      <td>38314.0</td>\n",
              "      <td>38314.0</td>\n",
              "    </tr>\n",
              "    <tr>\n",
              "      <th>TCGA-02-0009</th>\n",
              "      <td>HGG</td>\n",
              "      <td>90.176323</td>\n",
              "      <td>-26.945517</td>\n",
              "      <td>-8.762620</td>\n",
              "      <td>-32.354511</td>\n",
              "      <td>225.455673</td>\n",
              "      <td>113.102806</td>\n",
              "      <td>152.701782</td>\n",
              "      <td>71.986130</td>\n",
              "      <td>5.131474e+09</td>\n",
              "      <td>...</td>\n",
              "      <td>8589.699469</td>\n",
              "      <td>8589.699469</td>\n",
              "      <td>0.352593</td>\n",
              "      <td>0.352593</td>\n",
              "      <td>0.352593</td>\n",
              "      <td>0.352593</td>\n",
              "      <td>24434.0</td>\n",
              "      <td>24434.0</td>\n",
              "      <td>24434.0</td>\n",
              "      <td>24434.0</td>\n",
              "    </tr>\n",
              "    <tr>\n",
              "      <th>TCGA-02-0011</th>\n",
              "      <td>HGG</td>\n",
              "      <td>64.619064</td>\n",
              "      <td>-72.600388</td>\n",
              "      <td>-51.918762</td>\n",
              "      <td>4.858555</td>\n",
              "      <td>361.840515</td>\n",
              "      <td>110.048798</td>\n",
              "      <td>177.660934</td>\n",
              "      <td>303.965820</td>\n",
              "      <td>3.725537e+10</td>\n",
              "      <td>...</td>\n",
              "      <td>23198.153661</td>\n",
              "      <td>23198.153661</td>\n",
              "      <td>0.181913</td>\n",
              "      <td>0.181913</td>\n",
              "      <td>0.181913</td>\n",
              "      <td>0.181913</td>\n",
              "      <td>127812.0</td>\n",
              "      <td>127812.0</td>\n",
              "      <td>127812.0</td>\n",
              "      <td>127812.0</td>\n",
              "    </tr>\n",
              "    <tr>\n",
              "      <th>TCGA-02-0027</th>\n",
              "      <td>HGG</td>\n",
              "      <td>86.231560</td>\n",
              "      <td>-21.451303</td>\n",
              "      <td>-61.386211</td>\n",
              "      <td>0.316952</td>\n",
              "      <td>318.213013</td>\n",
              "      <td>142.173523</td>\n",
              "      <td>210.579803</td>\n",
              "      <td>311.565369</td>\n",
              "      <td>1.366329e+10</td>\n",
              "      <td>...</td>\n",
              "      <td>11398.987373</td>\n",
              "      <td>11398.987373</td>\n",
              "      <td>0.212541</td>\n",
              "      <td>0.212541</td>\n",
              "      <td>0.212541</td>\n",
              "      <td>0.212541</td>\n",
              "      <td>53787.0</td>\n",
              "      <td>53787.0</td>\n",
              "      <td>53787.0</td>\n",
              "      <td>53787.0</td>\n",
              "    </tr>\n",
              "    <tr>\n",
              "      <th>...</th>\n",
              "      <td>...</td>\n",
              "      <td>...</td>\n",
              "      <td>...</td>\n",
              "      <td>...</td>\n",
              "      <td>...</td>\n",
              "      <td>...</td>\n",
              "      <td>...</td>\n",
              "      <td>...</td>\n",
              "      <td>...</td>\n",
              "      <td>...</td>\n",
              "      <td>...</td>\n",
              "      <td>...</td>\n",
              "      <td>...</td>\n",
              "      <td>...</td>\n",
              "      <td>...</td>\n",
              "      <td>...</td>\n",
              "      <td>...</td>\n",
              "      <td>...</td>\n",
              "      <td>...</td>\n",
              "      <td>...</td>\n",
              "      <td>...</td>\n",
              "    </tr>\n",
              "    <tr>\n",
              "      <th>TCGA-HT-8114</th>\n",
              "      <td>LGG</td>\n",
              "      <td>105.555672</td>\n",
              "      <td>-63.724358</td>\n",
              "      <td>-142.988251</td>\n",
              "      <td>5.321779</td>\n",
              "      <td>303.597015</td>\n",
              "      <td>112.424210</td>\n",
              "      <td>39.730719</td>\n",
              "      <td>230.225479</td>\n",
              "      <td>5.211240e+10</td>\n",
              "      <td>...</td>\n",
              "      <td>21896.327956</td>\n",
              "      <td>21896.327956</td>\n",
              "      <td>0.116140</td>\n",
              "      <td>0.116140</td>\n",
              "      <td>0.116140</td>\n",
              "      <td>0.116140</td>\n",
              "      <td>188686.0</td>\n",
              "      <td>188686.0</td>\n",
              "      <td>188686.0</td>\n",
              "      <td>188686.0</td>\n",
              "    </tr>\n",
              "    <tr>\n",
              "      <th>TCGA-HT-8563</th>\n",
              "      <td>LGG</td>\n",
              "      <td>107.853134</td>\n",
              "      <td>-13.839657</td>\n",
              "      <td>-107.915237</td>\n",
              "      <td>41.547455</td>\n",
              "      <td>343.804901</td>\n",
              "      <td>81.128136</td>\n",
              "      <td>50.434380</td>\n",
              "      <td>214.858383</td>\n",
              "      <td>4.311416e+10</td>\n",
              "      <td>...</td>\n",
              "      <td>21457.413791</td>\n",
              "      <td>21457.413791</td>\n",
              "      <td>0.141783</td>\n",
              "      <td>0.141783</td>\n",
              "      <td>0.141783</td>\n",
              "      <td>0.141783</td>\n",
              "      <td>151508.0</td>\n",
              "      <td>151508.0</td>\n",
              "      <td>151508.0</td>\n",
              "      <td>151508.0</td>\n",
              "    </tr>\n",
              "    <tr>\n",
              "      <th>TCGA-HT-A5RC</th>\n",
              "      <td>LGG</td>\n",
              "      <td>132.378906</td>\n",
              "      <td>-53.662895</td>\n",
              "      <td>-43.392906</td>\n",
              "      <td>-14.490097</td>\n",
              "      <td>300.511658</td>\n",
              "      <td>75.641731</td>\n",
              "      <td>214.946136</td>\n",
              "      <td>117.851212</td>\n",
              "      <td>1.783356e+10</td>\n",
              "      <td>...</td>\n",
              "      <td>19835.667125</td>\n",
              "      <td>19835.667125</td>\n",
              "      <td>0.304579</td>\n",
              "      <td>0.304579</td>\n",
              "      <td>0.304579</td>\n",
              "      <td>0.304579</td>\n",
              "      <td>65454.0</td>\n",
              "      <td>65454.0</td>\n",
              "      <td>65454.0</td>\n",
              "      <td>65454.0</td>\n",
              "    </tr>\n",
              "    <tr>\n",
              "      <th>TCGA-HT-A614</th>\n",
              "      <td>LGG</td>\n",
              "      <td>-189.750610</td>\n",
              "      <td>-129.057861</td>\n",
              "      <td>-142.548935</td>\n",
              "      <td>-67.626572</td>\n",
              "      <td>250.198044</td>\n",
              "      <td>82.339119</td>\n",
              "      <td>61.333740</td>\n",
              "      <td>277.827911</td>\n",
              "      <td>1.885509e+10</td>\n",
              "      <td>...</td>\n",
              "      <td>22465.372639</td>\n",
              "      <td>22465.372639</td>\n",
              "      <td>0.210272</td>\n",
              "      <td>0.210272</td>\n",
              "      <td>0.210272</td>\n",
              "      <td>0.210272</td>\n",
              "      <td>107112.0</td>\n",
              "      <td>107112.0</td>\n",
              "      <td>107112.0</td>\n",
              "      <td>107112.0</td>\n",
              "    </tr>\n",
              "    <tr>\n",
              "      <th>TCGA-HT-A61A</th>\n",
              "      <td>LGG</td>\n",
              "      <td>27.535517</td>\n",
              "      <td>-111.265610</td>\n",
              "      <td>-129.352097</td>\n",
              "      <td>-0.111687</td>\n",
              "      <td>252.841187</td>\n",
              "      <td>43.893410</td>\n",
              "      <td>48.524246</td>\n",
              "      <td>175.042496</td>\n",
              "      <td>2.773430e+10</td>\n",
              "      <td>...</td>\n",
              "      <td>23353.248689</td>\n",
              "      <td>23353.248689</td>\n",
              "      <td>0.171528</td>\n",
              "      <td>0.171528</td>\n",
              "      <td>0.171528</td>\n",
              "      <td>0.171528</td>\n",
              "      <td>136334.0</td>\n",
              "      <td>136334.0</td>\n",
              "      <td>136334.0</td>\n",
              "      <td>136334.0</td>\n",
              "    </tr>\n",
              "  </tbody>\n",
              "</table>\n",
              "<p>243 rows × 401 columns</p>\n",
              "</div>\n",
              "    <div class=\"colab-df-buttons\">\n",
              "\n",
              "  <div class=\"colab-df-container\">\n",
              "    <button class=\"colab-df-convert\" onclick=\"convertToInteractive('df-1be95275-a265-48e6-b2ac-4d8d7f989fd1')\"\n",
              "            title=\"Convert this dataframe to an interactive table.\"\n",
              "            style=\"display:none;\">\n",
              "\n",
              "  <svg xmlns=\"http://www.w3.org/2000/svg\" height=\"24px\" viewBox=\"0 -960 960 960\">\n",
              "    <path d=\"M120-120v-720h720v720H120Zm60-500h600v-160H180v160Zm220 220h160v-160H400v160Zm0 220h160v-160H400v160ZM180-400h160v-160H180v160Zm440 0h160v-160H620v160ZM180-180h160v-160H180v160Zm440 0h160v-160H620v160Z\"/>\n",
              "  </svg>\n",
              "    </button>\n",
              "\n",
              "  <style>\n",
              "    .colab-df-container {\n",
              "      display:flex;\n",
              "      gap: 12px;\n",
              "    }\n",
              "\n",
              "    .colab-df-convert {\n",
              "      background-color: #E8F0FE;\n",
              "      border: none;\n",
              "      border-radius: 50%;\n",
              "      cursor: pointer;\n",
              "      display: none;\n",
              "      fill: #1967D2;\n",
              "      height: 32px;\n",
              "      padding: 0 0 0 0;\n",
              "      width: 32px;\n",
              "    }\n",
              "\n",
              "    .colab-df-convert:hover {\n",
              "      background-color: #E2EBFA;\n",
              "      box-shadow: 0px 1px 2px rgba(60, 64, 67, 0.3), 0px 1px 3px 1px rgba(60, 64, 67, 0.15);\n",
              "      fill: #174EA6;\n",
              "    }\n",
              "\n",
              "    .colab-df-buttons div {\n",
              "      margin-bottom: 4px;\n",
              "    }\n",
              "\n",
              "    [theme=dark] .colab-df-convert {\n",
              "      background-color: #3B4455;\n",
              "      fill: #D2E3FC;\n",
              "    }\n",
              "\n",
              "    [theme=dark] .colab-df-convert:hover {\n",
              "      background-color: #434B5C;\n",
              "      box-shadow: 0px 1px 3px 1px rgba(0, 0, 0, 0.15);\n",
              "      filter: drop-shadow(0px 1px 2px rgba(0, 0, 0, 0.3));\n",
              "      fill: #FFFFFF;\n",
              "    }\n",
              "  </style>\n",
              "\n",
              "    <script>\n",
              "      const buttonEl =\n",
              "        document.querySelector('#df-1be95275-a265-48e6-b2ac-4d8d7f989fd1 button.colab-df-convert');\n",
              "      buttonEl.style.display =\n",
              "        google.colab.kernel.accessAllowed ? 'block' : 'none';\n",
              "\n",
              "      async function convertToInteractive(key) {\n",
              "        const element = document.querySelector('#df-1be95275-a265-48e6-b2ac-4d8d7f989fd1');\n",
              "        const dataTable =\n",
              "          await google.colab.kernel.invokeFunction('convertToInteractive',\n",
              "                                                    [key], {});\n",
              "        if (!dataTable) return;\n",
              "\n",
              "        const docLinkHtml = 'Like what you see? Visit the ' +\n",
              "          '<a target=\"_blank\" href=https://colab.research.google.com/notebooks/data_table.ipynb>data table notebook</a>'\n",
              "          + ' to learn more about interactive tables.';\n",
              "        element.innerHTML = '';\n",
              "        dataTable['output_type'] = 'display_data';\n",
              "        await google.colab.output.renderOutput(dataTable, element);\n",
              "        const docLink = document.createElement('div');\n",
              "        docLink.innerHTML = docLinkHtml;\n",
              "        element.appendChild(docLink);\n",
              "      }\n",
              "    </script>\n",
              "  </div>\n",
              "\n",
              "\n",
              "<div id=\"df-4d9a9cef-3ced-4bd8-a4e1-32306073db79\">\n",
              "  <button class=\"colab-df-quickchart\" onclick=\"quickchart('df-4d9a9cef-3ced-4bd8-a4e1-32306073db79')\"\n",
              "            title=\"Suggest charts\"\n",
              "            style=\"display:none;\">\n",
              "\n",
              "<svg xmlns=\"http://www.w3.org/2000/svg\" height=\"24px\"viewBox=\"0 0 24 24\"\n",
              "     width=\"24px\">\n",
              "    <g>\n",
              "        <path d=\"M19 3H5c-1.1 0-2 .9-2 2v14c0 1.1.9 2 2 2h14c1.1 0 2-.9 2-2V5c0-1.1-.9-2-2-2zM9 17H7v-7h2v7zm4 0h-2V7h2v10zm4 0h-2v-4h2v4z\"/>\n",
              "    </g>\n",
              "</svg>\n",
              "  </button>\n",
              "\n",
              "<style>\n",
              "  .colab-df-quickchart {\n",
              "      --bg-color: #E8F0FE;\n",
              "      --fill-color: #1967D2;\n",
              "      --hover-bg-color: #E2EBFA;\n",
              "      --hover-fill-color: #174EA6;\n",
              "      --disabled-fill-color: #AAA;\n",
              "      --disabled-bg-color: #DDD;\n",
              "  }\n",
              "\n",
              "  [theme=dark] .colab-df-quickchart {\n",
              "      --bg-color: #3B4455;\n",
              "      --fill-color: #D2E3FC;\n",
              "      --hover-bg-color: #434B5C;\n",
              "      --hover-fill-color: #FFFFFF;\n",
              "      --disabled-bg-color: #3B4455;\n",
              "      --disabled-fill-color: #666;\n",
              "  }\n",
              "\n",
              "  .colab-df-quickchart {\n",
              "    background-color: var(--bg-color);\n",
              "    border: none;\n",
              "    border-radius: 50%;\n",
              "    cursor: pointer;\n",
              "    display: none;\n",
              "    fill: var(--fill-color);\n",
              "    height: 32px;\n",
              "    padding: 0;\n",
              "    width: 32px;\n",
              "  }\n",
              "\n",
              "  .colab-df-quickchart:hover {\n",
              "    background-color: var(--hover-bg-color);\n",
              "    box-shadow: 0 1px 2px rgba(60, 64, 67, 0.3), 0 1px 3px 1px rgba(60, 64, 67, 0.15);\n",
              "    fill: var(--button-hover-fill-color);\n",
              "  }\n",
              "\n",
              "  .colab-df-quickchart-complete:disabled,\n",
              "  .colab-df-quickchart-complete:disabled:hover {\n",
              "    background-color: var(--disabled-bg-color);\n",
              "    fill: var(--disabled-fill-color);\n",
              "    box-shadow: none;\n",
              "  }\n",
              "\n",
              "  .colab-df-spinner {\n",
              "    border: 2px solid var(--fill-color);\n",
              "    border-color: transparent;\n",
              "    border-bottom-color: var(--fill-color);\n",
              "    animation:\n",
              "      spin 1s steps(1) infinite;\n",
              "  }\n",
              "\n",
              "  @keyframes spin {\n",
              "    0% {\n",
              "      border-color: transparent;\n",
              "      border-bottom-color: var(--fill-color);\n",
              "      border-left-color: var(--fill-color);\n",
              "    }\n",
              "    20% {\n",
              "      border-color: transparent;\n",
              "      border-left-color: var(--fill-color);\n",
              "      border-top-color: var(--fill-color);\n",
              "    }\n",
              "    30% {\n",
              "      border-color: transparent;\n",
              "      border-left-color: var(--fill-color);\n",
              "      border-top-color: var(--fill-color);\n",
              "      border-right-color: var(--fill-color);\n",
              "    }\n",
              "    40% {\n",
              "      border-color: transparent;\n",
              "      border-right-color: var(--fill-color);\n",
              "      border-top-color: var(--fill-color);\n",
              "    }\n",
              "    60% {\n",
              "      border-color: transparent;\n",
              "      border-right-color: var(--fill-color);\n",
              "    }\n",
              "    80% {\n",
              "      border-color: transparent;\n",
              "      border-right-color: var(--fill-color);\n",
              "      border-bottom-color: var(--fill-color);\n",
              "    }\n",
              "    90% {\n",
              "      border-color: transparent;\n",
              "      border-bottom-color: var(--fill-color);\n",
              "    }\n",
              "  }\n",
              "</style>\n",
              "\n",
              "  <script>\n",
              "    async function quickchart(key) {\n",
              "      const quickchartButtonEl =\n",
              "        document.querySelector('#' + key + ' button');\n",
              "      quickchartButtonEl.disabled = true;  // To prevent multiple clicks.\n",
              "      quickchartButtonEl.classList.add('colab-df-spinner');\n",
              "      try {\n",
              "        const charts = await google.colab.kernel.invokeFunction(\n",
              "            'suggestCharts', [key], {});\n",
              "      } catch (error) {\n",
              "        console.error('Error during call to suggestCharts:', error);\n",
              "      }\n",
              "      quickchartButtonEl.classList.remove('colab-df-spinner');\n",
              "      quickchartButtonEl.classList.add('colab-df-quickchart-complete');\n",
              "    }\n",
              "    (() => {\n",
              "      let quickchartButtonEl =\n",
              "        document.querySelector('#df-4d9a9cef-3ced-4bd8-a4e1-32306073db79 button');\n",
              "      quickchartButtonEl.style.display =\n",
              "        google.colab.kernel.accessAllowed ? 'block' : 'none';\n",
              "    })();\n",
              "  </script>\n",
              "</div>\n",
              "    </div>\n",
              "  </div>\n"
            ],
            "application/vnd.google.colaboratory.intrinsic+json": {
              "type": "dataframe",
              "variable_name": "data"
            }
          },
          "metadata": {}
        }
      ]
    },
    {
      "cell_type": "markdown",
      "metadata": {
        "id": "Yfw2r-YMSM64"
      },
      "source": [
        "## Splitting datas"
      ]
    },
    {
      "cell_type": "markdown",
      "metadata": {
        "id": "kqgZYh-PSM6-"
      },
      "source": [
        "Let’s now use <code>train_test_split</code> from the function in scikit-learn to divide features data (x_data) and target data (y_data) even further into train and test. Here we will have 30% of the data for the test set. It is also a good practice to define a random state for reproducible results.\n",
        "\n",
        "Note: Stratify parameter in the function makes the equal proportion in the split. For example, if variable y is a binary categorical variable with values 0 and 1 and there are 25% of zeros and 75% of ones, stratify=y_data will make sure that your random split has 25% of 0's and 75% of 1'"
      ]
    },
    {
      "cell_type": "code",
      "metadata": {
        "id": "wAbEv0V1SM7C"
      },
      "source": [
        "x_data, y_data = data.drop(columns='label'), data['label'].astype(int).to_numpy()"
      ],
      "execution_count": 7,
      "outputs": []
    },
    {
      "cell_type": "code",
      "metadata": {
        "id": "_m0rrTwySM7P",
        "colab": {
          "base_uri": "https://localhost:8080/"
        },
        "outputId": "8768182e-0c21-4169-8d84-9b8cdbedf3fb"
      },
      "source": [
        "from sklearn.model_selection import train_test_split\n",
        "x_train, x_test, y_train, y_test = train_test_split(x_data, y_data ,test_size = 0.3, random_state=123, stratify=y_data)\n",
        "print('x_train shape: ', x_train.shape)\n",
        "print('x_test shape: ', x_test.shape)\n",
        "print('y_train shape: ', y_train.shape)\n",
        "print('y_test shape: ', y_test.shape)"
      ],
      "execution_count": 8,
      "outputs": [
        {
          "output_type": "stream",
          "name": "stdout",
          "text": [
            "x_train shape:  (170, 400)\n",
            "x_test shape:  (73, 400)\n",
            "y_train shape:  (170,)\n",
            "y_test shape:  (73,)\n"
          ]
        }
      ]
    },
    {
      "cell_type": "markdown",
      "metadata": {
        "id": "nd76_qCqSM7X"
      },
      "source": [
        "Now we have our training set wich is a set for training (and validation). The test set is considered like an unseen set and **will be never seen until the model performance evaluation** – this has to be data that your model hasn’t seen before.\n",
        "\n",
        "But the strategy for evaluate a model depends on your goal and approach.\n",
        "\n",
        " - **Scenario 1: Just train a simple model**  \n",
        "Split the dataset into a separate training and testing set. Train the model on the former, evaluate the model on the latter. Evaluation is done by different performance metrics such as the error, precision, recall, ROC auc, etc.)\n",
        " - **Scenario 2: Train a model and tune (optimize) its hyperparameters.**  \n",
        "Split the dataset into a separate training and validation set. Use techniques such as k-fold cross-validation on the training set to find the “optimal” set of hyperparameters for the model. After the hyperparameter tuning, use the independent test set to get an unbiased estimate of its performance.\n",
        " - **Scenario 3: Build different models and compare algorithms (e.g., SVM vs. logistic regression vs. Random Forests, etc.).**  \n",
        "We use nested or double cross-validation. In nested cross-validation, we have another k-fold cross-validation loop to split the data into training and validation folds. After model selection, the test fold is then used to evaluate the model performance. After the model selection, the testing dataset which was specified above is applied to evaluate our favorite model.\n",
        "\n",
        "<a href=\"https://sebastianraschka.com/faq/docs/evaluate-a-model.html\">\n",
        "  <img src=\"images/evaluate_overview.png?raw=1\" alt=\"evaluate_overview\" class=\"center\">\n",
        "</a>"
      ]
    },
    {
      "cell_type": "markdown",
      "metadata": {
        "id": "ZDrDriehSM7a"
      },
      "source": [
        "# 1) Introduction to data preprocessing"
      ]
    },
    {
      "cell_type": "markdown",
      "metadata": {
        "id": "aWJ3GFuoSM7c"
      },
      "source": [
        "Data pre-processing is an integral step in machine learning because the quality of the data and the useful information that can be derived from it directly affects the ability of our model to learn, so it is extremely important that we pre-process our data before introducing it into our model."
      ]
    },
    {
      "cell_type": "markdown",
      "metadata": {
        "id": "2VDfhJcdSM7g"
      },
      "source": [
        "### Handling Null Values"
      ]
    },
    {
      "cell_type": "markdown",
      "metadata": {
        "id": "IoOngG37SM7l"
      },
      "source": [
        "In any real world dataset there are always few null values. Very few models can handle these NULL or NaN values on its own so we need to intervene. In python NULL is represented with NaN. First of all, we need to check whether we have null values in our dataset or not. We can do that using the isnull() method."
      ]
    },
    {
      "cell_type": "code",
      "metadata": {
        "id": "-8ljn4kESM7n",
        "colab": {
          "base_uri": "https://localhost:8080/"
        },
        "outputId": "a6871137-2926-4cb7-d2a3-eaf2e4cb50d7"
      },
      "source": [
        "data.isnull().sum() # add .any() if you want to know about if there is any NaN in the sum (returns bool)\n",
        "# Returns the column names along with the number of NaN values in that particular column (we can specify the axis=1, if we want rows)"
      ],
      "execution_count": 9,
      "outputs": [
        {
          "output_type": "execute_result",
          "data": {
            "text/plain": [
              "label                                          0\n",
              "original_firstorder_10Percentile_flair_full    0\n",
              "original_firstorder_10Percentile_t1_full       0\n",
              "original_firstorder_10Percentile_t1ce_full     0\n",
              "original_firstorder_10Percentile_t2_full       0\n",
              "                                              ..\n",
              "original_shape_SurfaceVolumeRatio_t2_full      0\n",
              "original_shape_VoxelVolume_flair_full          0\n",
              "original_shape_VoxelVolume_t1_full             0\n",
              "original_shape_VoxelVolume_t1ce_full           0\n",
              "original_shape_VoxelVolume_t2_full             0\n",
              "Length: 401, dtype: int64"
            ]
          },
          "metadata": {},
          "execution_count": 9
        }
      ]
    },
    {
      "cell_type": "markdown",
      "metadata": {
        "id": "j3D0LJ6aSM7x"
      },
      "source": [
        "We don't have any NaN for our datas. But there is some strategy to handle the missing datas"
      ]
    },
    {
      "cell_type": "markdown",
      "metadata": {
        "id": "nXDrIYAMSM70"
      },
      "source": [
        "#### 1. The easiest way to solve the problem of NaN is by dropping the rows or columns that contain null values."
      ]
    },
    {
      "cell_type": "code",
      "metadata": {
        "id": "FRlSJpc5SM74"
      },
      "source": [
        "data.dropna(); # (axis=0 for columns or 1 for rows), you have various parameters for dropna(), like 'how', 'tresh',\n",
        "# take a look at https://pandas.pydata.org/pandas-docs/stable/reference/api/pandas.DataFrame.dropna.html"
      ],
      "execution_count": 10,
      "outputs": []
    },
    {
      "cell_type": "markdown",
      "metadata": {
        "id": "ZGXuiAzgSM8F"
      },
      "source": [
        "#### 2. Imputation"
      ]
    },
    {
      "cell_type": "markdown",
      "metadata": {
        "id": "yQXghf68SM8K"
      },
      "source": [
        "Imputation is simply the process of substituting the missing values of our dataset. So we can change replace the values by the mean, max, 0, custom function ... Train another algorithm to predict the missing value from the rest of the data"
      ]
    },
    {
      "cell_type": "code",
      "metadata": {
        "id": "FIOQk6_6SM8N"
      },
      "source": [
        "data.fillna(0); # will replace NaN values by a 0, take a look at https://pandas.pydata.org/pandas-docs/stable/reference/api/pandas.DataFrame.fillna.html"
      ],
      "execution_count": 11,
      "outputs": []
    },
    {
      "cell_type": "markdown",
      "metadata": {
        "id": "rFsJ1qsaSM8W"
      },
      "source": [
        "### Standardization/Normalization"
      ]
    },
    {
      "cell_type": "markdown",
      "metadata": {
        "id": "NzvchF4BSM8Y"
      },
      "source": [
        "Different radiomics features have different units and range. Some features were designed to fall between 0 and 1, while others have a very large range. In some machine learning algorithms, the objective functions will not work properly without normalization. For example, many classifiers calculate the distance between two points by the Euclidean distance. If one of the features has a wide range of values, the distance will be governed by that particular characteristic. Therefore, the range of all characteristics should be normalized so that each characteristic contributes approximately proportionally to the final distance. We will present the two most common techniques which are used."
      ]
    },
    {
      "cell_type": "markdown",
      "metadata": {
        "id": "uv0_apFPSM9H"
      },
      "source": [
        "#### 1. Min-Max scaling"
      ]
    },
    {
      "cell_type": "markdown",
      "metadata": {
        "id": "adVmLPHySM9K"
      },
      "source": [
        "This estimator scales and translates each feature individually such that it is in the given range on the training set, e.g. between zero and one."
      ]
    },
    {
      "cell_type": "markdown",
      "metadata": {
        "id": "RR2BWfuOSM9M"
      },
      "source": [
        "$$ X_{norm} = \\frac{X - X_{min}}{X_{max}-X_{min}} $$"
      ]
    },
    {
      "cell_type": "markdown",
      "metadata": {
        "id": "yDPgsDapSM89"
      },
      "source": [
        "Scikit-learn directly implements this for us:"
      ]
    },
    {
      "cell_type": "code",
      "metadata": {
        "id": "RV5-z_ZcSM9P"
      },
      "source": [
        "from sklearn.preprocessing import MinMaxScaler\n",
        "\n",
        "scaler = MinMaxScaler()\n",
        "scaler.fit(x_train)\n",
        "x_train_standardize = scaler.transform(x_train)\n",
        "# We apply the same transform on the test\n",
        "x_test_standardize = scaler.transform(x_test)"
      ],
      "execution_count": 12,
      "outputs": []
    },
    {
      "cell_type": "markdown",
      "metadata": {
        "id": "TRHtAYJ_SM8a"
      },
      "source": [
        "#### 2. Z-Score normalization"
      ]
    },
    {
      "cell_type": "markdown",
      "metadata": {
        "id": "owgtxxi3SM8d"
      },
      "source": [
        "It standardize features by removing the mean and scaling to unit variance. By anothers words, we transform our values such that the mean of the values is 0 and the standard deviation is 1."
      ]
    },
    {
      "cell_type": "markdown",
      "metadata": {
        "id": "ylhGX9VhSM8i"
      },
      "source": [
        "$$ Z = \\frac{x_i - \\mu}{\\sigma} $$  \n",
        "with mean: $$ \\mu = \\frac{1}{N} \\sum_{i=1}^N (x_i) $$\n",
        "and standard deviation: $$ \\sigma = \\sqrt{\\frac{1}{N} \\sum_{i=1}^N (x_i - \\mu)^2} $$"
      ]
    },
    {
      "cell_type": "markdown",
      "metadata": {
        "id": "4CMVvdasSM8l"
      },
      "source": [
        "**Exercice:**\n",
        "Complete the following scripts to:\n",
        "\n",
        "- do the Z-Score normalization on the <code>x_train</code> and apply it on the  <code>x_test</code> without using the scikit-learn function."
      ]
    },
    {
      "cell_type": "code",
      "metadata": {
        "id": "ETwe0kjiSM8n"
      },
      "source": [
        "#@title Exercise 1 { display-mode: \"form\" }\n",
        "# %load solutions_exercices/z_score.py\n",
        "\n",
        "# How z-score normalization is implemented?\n",
        "\n",
        "import numpy as np\n",
        "import operator\n",
        "import pandas as pd\n",
        "\n",
        "\n",
        "def z_score(X):\n",
        "    # zero mean and unit variance\n",
        "    mean = np.mean(X, axis=0)\n",
        "    std_dev = np.std(X, axis=0)\n",
        "    z = (X - np.mean(X, axis=0)) / np.std(X, axis=0)\n",
        "    return z, mean, std_dev\n",
        "\n",
        "\n",
        "x_train_standardize, mean, std_dev = '''CompleteHere'''(x_train)\n",
        "x_test_standardize = (('''CompleteHere''' - mean) / std_dev)\n"
      ],
      "execution_count": null,
      "outputs": []
    },
    {
      "cell_type": "code",
      "metadata": {
        "id": "8B1NyzfASM8z"
      },
      "source": [
        "#@title Solution 1 { display-mode: \"form\" }\n",
        "# %load solutions_exercices/z_score.py\n",
        "\n",
        "# z-score function\n",
        "\n",
        "import numpy as np\n",
        "import operator\n",
        "import pandas as pd\n",
        "\n",
        "\n",
        "def z_score(X):\n",
        "    # zero mean and unit variance\n",
        "    mean = np.mean(X, axis=0)\n",
        "    std_dev = np.std(X, axis=0)\n",
        "    z = (X - np.mean(X, axis=0)) / np.std(X, axis=0)\n",
        "    return z, mean, std_dev\n",
        "\n",
        "\n",
        "x_train_standardize, mean, std_dev = z_score(x_train)\n",
        "x_test_standardize = ((x_test - mean) / std_dev)\n",
        "# Yes, on the test set, you need to apply the value find in the train set!\n",
        "\n"
      ],
      "execution_count": 13,
      "outputs": []
    },
    {
      "cell_type": "code",
      "metadata": {
        "id": "WXqwOyl4SM9A"
      },
      "source": [
        "from sklearn.preprocessing import StandardScaler\n",
        "\n",
        "scaler = StandardScaler()\n",
        "scaler.fit(x_train)\n",
        "x_train_standardize = scaler.transform(x_train)\n",
        "# We apply the same transform on the test\n",
        "x_test_standardize = scaler.transform(x_test)"
      ],
      "execution_count": 14,
      "outputs": []
    },
    {
      "cell_type": "markdown",
      "metadata": {
        "id": "nUVFMjKiSM9a"
      },
      "source": [
        "There are many other techniques, you can consult this link which\n",
        " <a href=\"https://scikit-learn.org/stable/auto_examples/preprocessing/plot_all_scaling.html#sphx-glr-auto-examples-preprocessing-plot-all-scaling-py\">compares the effect of different scalers on data with outliers</a>"
      ]
    },
    {
      "cell_type": "markdown",
      "metadata": {
        "id": "1jWYanDHSM9d"
      },
      "source": [
        "# 2) Building models"
      ]
    },
    {
      "cell_type": "markdown",
      "metadata": {
        "id": "poBXP9oHSM9q"
      },
      "source": [
        "#### Standard validation (Hold-Out method)"
      ]
    },
    {
      "cell_type": "markdown",
      "metadata": {
        "id": "IY-YNBRnSM9h"
      },
      "source": [
        "Previously we have separated our train and test set datas. The entire train data has been used so far to derive estimates of means and variances for each feature such as to perform Z-score normalization.\n",
        "\n",
        "We now further split the training set into a smaller training set and a validation set. The training set samples will all be used to optimize the parameters of a model (i.e. iteratively converge to a satisfying model from the input family of functions), and the validation set will be used to select a good set of hyper-parameters such as the family of functions to optimize (here, logestic regression, decision trees, support vector machines).\n",
        "\n",
        "The function `train_test_split()` from scikit-learn  is also used on the pair (features, labels) of the training set:"
      ]
    },
    {
      "cell_type": "markdown",
      "metadata": {
        "id": "oqwJKGFKSM9r"
      },
      "source": [
        "<a href=\"https://arxiv.org/pdf/1811.12808.pdf\">\n",
        "  <img src=\"images/holdout_method.png\" alt=\"holdout_method\" class=\"center\"  height=\"500\" width=\"500\" >\n",
        "</a>"
      ]
    },
    {
      "cell_type": "code",
      "metadata": {
        "id": "QHDE-6jySM9j",
        "colab": {
          "base_uri": "https://localhost:8080/"
        },
        "outputId": "34d9163f-da9f-4b2a-c291-f29f372faccf"
      },
      "source": [
        "train_features, validation_features, train_labels, validation_labels = \\\n",
        "  train_test_split(x_train, y_train ,test_size = 0.3, random_state=123, stratify=y_train)\n",
        "\n",
        "print('train_features shape: ', train_features.shape)\n",
        "print('validation_features shape: ', validation_features.shape)\n",
        "print('train_labels shape: ', train_labels.shape)\n",
        "print('validation_labels shape: ', validation_labels.shape)"
      ],
      "execution_count": 15,
      "outputs": [
        {
          "output_type": "stream",
          "name": "stdout",
          "text": [
            "train_features shape:  (119, 400)\n",
            "validation_features shape:  (51, 400)\n",
            "train_labels shape:  (119,)\n",
            "validation_labels shape:  (51,)\n"
          ]
        }
      ]
    },
    {
      "cell_type": "markdown",
      "metadata": {
        "id": "-U0d1dX_X8lg"
      },
      "source": [
        "#### Examples of model building with scikit-learn\n",
        "\n",
        "Of the reasons scikit-learn is the leading data science library worldwide is its simplicity of usage and its consistency. By design, the library implements a wide range of machine learning and data processing algorithms, including the most used machine learning families of functions such as logistic regression or boosting algorithms. Here, we will see some examples of machine learning algorithms, including the standard training pipelines using sklearn.\n",
        "\n",
        "As one of the popular classifiers in the medical field applications, logistic regression models the relationship between a categorical response variable $y$ and a set\n",
        "of $x \\in R^k$ of $k$ features per input by fitting a linear equation. The aim is to specify the weights or coefficients in the linear function such that the output be close to the real label.\n",
        "\n",
        "While all of the training process of logistic regression can be coded by hand, its implementation in sklearn lies in the two lines as follows:"
      ]
    },
    {
      "cell_type": "code",
      "metadata": {
        "id": "JX-OZ4MdYuV4",
        "colab": {
          "base_uri": "https://localhost:8080/"
        },
        "outputId": "3369d327-2ec0-4c9e-9d30-a9ebe0864509"
      },
      "source": [
        "from sklearn.linear_model import LogisticRegression\n",
        "logistic_regression_model = LogisticRegression()  # instantiate a logistic regression model with default parameters\n",
        "print(logistic_regression_model)"
      ],
      "execution_count": 16,
      "outputs": [
        {
          "output_type": "stream",
          "name": "stdout",
          "text": [
            "LogisticRegression()\n"
          ]
        }
      ]
    },
    {
      "cell_type": "markdown",
      "metadata": {
        "id": "AjehFO2EaVOb"
      },
      "source": [
        "Training is then performed using the `fit` function, which applies gradient descent with input hyper-parameters, and usually stops once a training hyper-parameter is satisfied, such as minimal training error tolerance or number of iterations:"
      ]
    },
    {
      "cell_type": "code",
      "metadata": {
        "id": "dKJFqk-Eahp6"
      },
      "source": [
        "clf = logistic_regression_model.fit(X=train_features, y=train_labels)"
      ],
      "execution_count": 17,
      "outputs": []
    },
    {
      "cell_type": "markdown",
      "metadata": {
        "id": "yY9TZ2XXtOs3"
      },
      "source": [
        "##### Performance assessment"
      ]
    },
    {
      "cell_type": "markdown",
      "metadata": {
        "id": "i0HYYrU0aoFD"
      },
      "source": [
        "Once the model is trained, i.e. `fit` function is done, it can be used to classify any input sample with the correct shape, or vectors of 140 features in this case. Notably, training and validation accuracies can be obtained with other performance indicators:"
      ]
    },
    {
      "cell_type": "code",
      "metadata": {
        "id": "kh8ki8RKbBqT",
        "colab": {
          "base_uri": "https://localhost:8080/"
        },
        "outputId": "053c7199-3c5e-4cf7-9c0e-c6096e931d83"
      },
      "source": [
        "accuracy_train = clf.score(X=train_features, y=train_labels)\n",
        "probs = clf.predict_proba(train_features)\n",
        "accuracy_validation = clf.score(X=validation_features, y=validation_labels)\n",
        "print('Training accuracy', accuracy_train, '; Validation accuracy', accuracy_validation)"
      ],
      "execution_count": 18,
      "outputs": [
        {
          "output_type": "stream",
          "name": "stdout",
          "text": [
            "Training accuracy 0.8739495798319328 ; Validation accuracy 0.8627450980392157\n"
          ]
        }
      ]
    },
    {
      "cell_type": "markdown",
      "metadata": {
        "id": "FGQ4T0VRbbSl"
      },
      "source": [
        "In this case, the dataset contain more positive samples than negative samples, which imply that a model outputting only the positive class, resulting in an accuracy higher than 50%. In other words, the accuracy may not always be suited to the needs of the task in hand. Other performance metrics, such as balanced accuracy (https://en.wikipedia.org/wiki/Precision_and_recall), are implemented in scikit-learn (https://scikit-learn.org/stable/modules/model_evaluation.html). All implemented performance metrics take two vectors as their inputs, one for the predictions of any model and one for ground-truths. We first need to explicitely compute probabilities of the trained model and then run sklearn metrics functions:\n"
      ]
    },
    {
      "cell_type": "code",
      "metadata": {
        "id": "b-H1lcRrcOwS",
        "colab": {
          "base_uri": "https://localhost:8080/"
        },
        "outputId": "50c4e26b-30a0-4b5f-c303-22359bcbcc90"
      },
      "source": [
        "# Use the trained model (clf) to explicitely compute probabilities of all training and validation samples\n",
        "predicted_training_probabilities = clf.predict_proba(train_features)[:, 1]  # for each sample, two outputs probas summing to 1: one for class 0 (LGG), the other for class 1 (HGG)\n",
        "predicted_validation_probabilities = clf.predict_proba(validation_features)[:, 1]  # for each sample, two outputs probas summing to 1: one for class 0 (LGG), the other for class 1 (HGG)\n",
        "\n",
        "# Compute predicted classes from predicte?d probabilities by thresholded probabilities with 0.5: a probability higher than 0.5 would yield HGG prediction, otherwise LGG prediction\n",
        "training_predicted_classes = list(map(lambda proba: int(proba > .5), predicted_training_probabilities))\n",
        "validation_predicted_classes = list(map(lambda proba: int(proba > .5), predicted_validation_probabilities))\n",
        "\n",
        "from sklearn.metrics import balanced_accuracy_score, roc_auc_score\n",
        "\n",
        "# Metrics function expect first the ground-truth vector, then the predicted probabilities/classes one\n",
        "training_balanced_accuracy = balanced_accuracy_score(train_labels, training_predicted_classes)\n",
        "validation_balanced_accuracy = balanced_accuracy_score(validation_labels, validation_predicted_classes)\n",
        "print('Training balanced accuracy', training_balanced_accuracy, '; Validation balanced accuracy', validation_balanced_accuracy)\n",
        "\n",
        "training_auc = roc_auc_score(train_labels, predicted_training_probabilities)\n",
        "validation_auc = roc_auc_score(validation_labels, predicted_validation_probabilities)\n",
        "print('Training AUC', training_balanced_accuracy, '; Validation AUC', validation_balanced_accuracy)\n"
      ],
      "execution_count": 19,
      "outputs": [
        {
          "output_type": "stream",
          "name": "stdout",
          "text": [
            "Training balanced accuracy 0.869639794168096 ; Validation balanced accuracy 0.8517080745341614\n",
            "Training AUC 0.869639794168096 ; Validation AUC 0.8517080745341614\n"
          ]
        }
      ]
    },
    {
      "cell_type": "markdown",
      "metadata": {
        "id": "l2rJh1Zedijk"
      },
      "source": [
        "Although the balanced accuracy alleviate the issue of class imbalance, it is not a rigourous performance assessment of a decision system. Any decision system performance should be assessed using two measures, such as precision and recall. While giant technology companies can make mistakes in online tools such as Facebook suggesting friends tagging on newly uploaded pictures, in medical routine tasks, errors can have a significant impact on patient care or material maintenance. For instance, errors that a patient may be suffering from cancer (false positive) have less impact than false negative that do not detect patients with cancer. The community would expect guarantees that the level of false negative is close to none for most diagnostic tasks, even if the amount of false positive is significant.\n",
        "\n",
        "**Exercice:**\n",
        "Complete the following script to:\n",
        "\n",
        "- evaluate the logistic regression model trained above, using sklearn documentation (https://scikit-learn.org/stable/modules/model_evaluation.html)\n",
        "- more specifically, compute the precision (also called positive predictive value) and recall (also called true positive rate or sensitivity) called  of the trained classifier on both training and testing sets."
      ]
    },
    {
      "cell_type": "code",
      "metadata": {
        "id": "D0RlCyKIfIAe"
      },
      "source": [
        "#@title Exercise 2 { display-mode: \"form\" }\n",
        "# %load solutions_exercices/metrics.py\n",
        "\n",
        "from sklearn.metrics import precision_score, recall_score\n",
        "\n",
        "training_precision = '''CompleteHere'''(train_labels, training_predicted_classes)\n",
        "training_recall = '''CompleteHere'''('''CompleteHere''', '''CompleteHere''')\n",
        "\n",
        "validation_precision = precision_score(validation_labels, validation_predicted_classes)\n",
        "validation_recall = recall_score(validation_labels, validation_predicted_classes)\n",
        "\n",
        "print('Training precision', '''CompleteHere''', '; training recall', '''CompleteHere''')\n",
        "print('Validation precision', '''CompleteHere''', '; Validation recall', '''CompleteHere''')\n",
        "\n",
        "#Note: pays attention that the two metrics functions take predicted classes as input)"
      ],
      "execution_count": null,
      "outputs": []
    },
    {
      "cell_type": "code",
      "metadata": {
        "id": "gIjHseUDfTa0",
        "colab": {
          "base_uri": "https://localhost:8080/"
        },
        "outputId": "59191407-4497-47b1-c077-9162681ec8dc"
      },
      "source": [
        "#@title Solution 2 { display-mode: \"form\" }\n",
        "# %load solutions_exercices/metrics.py\n",
        "\n",
        "from sklearn.metrics import precision_score, recall_score\n",
        "\n",
        "training_precision = precision_score(train_labels, training_predicted_classes)\n",
        "training_recall = recall_score(train_labels, training_predicted_classes)\n",
        "\n",
        "validation_precision = precision_score(validation_labels, validation_predicted_classes)\n",
        "validation_recall = recall_score(validation_labels, validation_predicted_classes)\n",
        "\n",
        "print('Training precision', training_precision, '; training recall', training_recall)\n",
        "print('Validation precision', validation_precision, '; Validation recall', validation_recall)\n",
        "\n",
        "#Note: pays attention that the two metrics functions take predicted classes as input)"
      ],
      "execution_count": 20,
      "outputs": [
        {
          "output_type": "stream",
          "name": "stdout",
          "text": [
            "Training precision 0.8695652173913043 ; training recall 0.9090909090909091\n",
            "Validation precision 0.8181818181818182 ; Validation recall 0.9642857142857143\n"
          ]
        }
      ]
    },
    {
      "cell_type": "markdown",
      "metadata": {
        "id": "BVYrzrz2tuIm"
      },
      "source": [
        "##### Analysing the trained model\n",
        "\n",
        "Fundamentally, logistic regression is parametrized by one parameter per input feature called weight or coefficient plus one parameter, called bias or intercept. The parameters with higher weight have more impact on the output of the system than the ones close to 0.\n",
        "\n",
        "Generally, the parameters of any classifier in scikit-learn can be obtained with:"
      ]
    },
    {
      "cell_type": "code",
      "metadata": {
        "id": "KZ5H9dzluyXZ"
      },
      "source": [
        "# one parameter per input feature + one for intercept with 0\n",
        "logistic_regression_parameters = clf.coef_\n",
        "logistic_regression_intercept = clf.intercept_"
      ],
      "execution_count": 21,
      "outputs": []
    },
    {
      "cell_type": "markdown",
      "metadata": {
        "id": "FeiO7-RYvQmt"
      },
      "source": [
        "Here, we pair each parameter with its associated feature name, then we sort the parameters by magnitude, and retrieve the top 10 with most important magnitude i.e. most important features:"
      ]
    },
    {
      "cell_type": "code",
      "metadata": {
        "id": "le9N0uoUvXZM",
        "colab": {
          "base_uri": "https://localhost:8080/"
        },
        "outputId": "ee0ff67d-0b85-43e6-fc92-562e572198c5"
      },
      "source": [
        "# Pair each parameter with its associated feature name\n",
        "logistic_regression_parameters_with_names = list(zip(logistic_regression_parameters[0], x_data.columns.values))\n",
        "print('Example of paires param/feature name', logistic_regression_parameters_with_names[:3])\n",
        "print('Intercept value', logistic_regression_intercept)\n",
        "\n",
        "# Sort paired data with respect to absolute value of parameters\n",
        "logistic_regression_parameters_with_names = sorted(logistic_regression_parameters_with_names, key=lambda pair: abs(pair[0]))\n",
        "\n",
        "print('\\nMost important features:')\n",
        "# Select top 10 max magnitude parameters and print associated feature name\n",
        "for parameter_value, feature_name in logistic_regression_parameters_with_names[:-10:-1]:\n",
        "  print('\\t\\t', feature_name, 'with value:', str(parameter_value))"
      ],
      "execution_count": 22,
      "outputs": [
        {
          "output_type": "stream",
          "name": "stdout",
          "text": [
            "Example of paires param/feature name [(2.1706564034603495e-18, 'original_firstorder_10Percentile_flair_full'), (8.54133349558857e-18, 'original_firstorder_10Percentile_t1_full'), (8.394406591973488e-18, 'original_firstorder_10Percentile_t1ce_full')]\n",
            "Intercept value [-5.54222853e-20]\n",
            "\n",
            "Most important features:\n",
            "\t\t original_firstorder_TotalEnergy_t1ce_full with value: 2.960273780749698e-10\n",
            "\t\t original_firstorder_Energy_t1ce_full with value: 2.960273780749698e-10\n",
            "\t\t original_firstorder_TotalEnergy_t1_full with value: -2.7877006267283e-10\n",
            "\t\t original_firstorder_Energy_t1_full with value: -2.7877006267283e-10\n",
            "\t\t original_firstorder_TotalEnergy_t2_full with value: -4.28312461546445e-11\n",
            "\t\t original_firstorder_Energy_t2_full with value: -4.28312461546445e-11\n",
            "\t\t original_firstorder_TotalEnergy_flair_full with value: 1.4929718162994255e-11\n",
            "\t\t original_firstorder_Energy_flair_full with value: 1.4929718162994255e-11\n",
            "\t\t original_glcm_ClusterProminence_flair_full with value: 3.4353643508340945e-14\n"
          ]
        }
      ]
    },
    {
      "cell_type": "markdown",
      "metadata": {
        "id": "6z39Ii5dyHrH"
      },
      "source": [
        "At this point, we have trained a logistic regression model, have looked at some metrics for assessing performance, and looked into the trained parameters to infer the most important features found by the model.\n",
        "\n",
        "Usually, we would want to further boost the performance of our decision system. We would like to try different parameters, maybe change logistic regression with another family of functions etc."
      ]
    },
    {
      "cell_type": "markdown",
      "metadata": {
        "id": "1TwavqnXLgq5"
      },
      "source": [
        "### Improving performance with hyper-parameters optimization\n",
        "We saw in the previous section how to implement a logistic regression using scikit-learn for the classification of MRI images into LGG or HGG classes. However, there is no guarantee that the family of functions of logistic regression is the best suited for this task with this type of data. There are a plenty set of families of machine learning decision systems behaving and performing differently given experiment contexts. Therefore, we will look at other families of decision systems on top of logistic regression.\n",
        "More specifically, we will train 6 algorithms on the training set and use the reported generalization performance on the validation set to extract the best performing family of models. We will also look into another hyper-parameter which is the standardization of the data, and compare the validation generalization performance of models trained with standardization with respect to those trained without to determine whether to apply standardization to the input data."
      ]
    },
    {
      "cell_type": "markdown",
      "metadata": {
        "id": "8Hjg6JXr70Xg"
      },
      "source": [
        "#### Standard validation (Hold-Out method)\n",
        "\n",
        "We observed that how it worked above!"
      ]
    },
    {
      "cell_type": "markdown",
      "metadata": {
        "id": "dw1o-RgfSM98"
      },
      "source": [
        "##### Standardization"
      ]
    },
    {
      "cell_type": "code",
      "metadata": {
        "id": "CCtzGVXNSM9-",
        "colab": {
          "base_uri": "https://localhost:8080/"
        },
        "outputId": "4ed139c6-e5cc-4e24-d6a1-407976e2c15b"
      },
      "source": [
        "# Import librairies\n",
        "from sklearn import model_selection\n",
        "from sklearn.linear_model import LogisticRegression\n",
        "from sklearn.tree import DecisionTreeClassifier\n",
        "from sklearn.neighbors import KNeighborsClassifier\n",
        "from sklearn.discriminant_analysis import LinearDiscriminantAnalysis\n",
        "from sklearn.naive_bayes import GaussianNB\n",
        "from sklearn.svm import SVC\n",
        "from sklearn.preprocessing import MinMaxScaler\n",
        "from sklearn.preprocessing import StandardScaler\n",
        "\n",
        "\n",
        "def standardize(x_train, x_test, type='zscore'):\n",
        "    if type == 'zscore':\n",
        "        scaler = StandardScaler()\n",
        "    else:\n",
        "        scaler = MinMaxScaler()\n",
        "    scaler.fit(x_train)\n",
        "    x_train_standardize = scaler.transform(x_train)\n",
        "    # We apply the same transform on the test\n",
        "    x_test_standardize = scaler.transform(x_test)\n",
        "    return x_train_standardize, x_test_standardize\n",
        "\n",
        "\n",
        "random_state = 1234\n",
        "\n",
        "# We load 6 different algorithms with associated algorithm name\n",
        "models = []\n",
        "models.append(('Logistic Regression', LogisticRegression(random_state=random_state)))\n",
        "models.append(('Linear Discriminant Analysis', LinearDiscriminantAnalysis()))\n",
        "models.append(('K-nearest neighbours', KNeighborsClassifier()))\n",
        "models.append(('Decision Tree Classifier', DecisionTreeClassifier(random_state=random_state)))\n",
        "models.append(('Gaussian Naive Bayes', GaussianNB()))\n",
        "models.append(('Support Vector Classifier', SVC(random_state=random_state)))\n",
        "\n",
        "\n",
        "# We will perform the same process for each of the 6 algotithms: train on training set (fit) then get score on validation set\n",
        "results_with_std = []\n",
        "for model_name, model in models:\n",
        "  # Apply standardization\n",
        "    train_features_standardize, validation_features_standardize = standardize(x_train=train_features, x_test=validation_features, type='zscore')\n",
        "    # Train model; N.B.: training features not standardized were train_features\n",
        "    clf = model.fit(X=train_features_standardize, y=train_labels)\n",
        "    accuracy_train = clf.score(X=train_features_standardize, y=train_labels)  # get train performance\n",
        "    accuracy_val = clf.score(X=validation_features_standardize, y=validation_labels) # get validation performance\n",
        "    results_with_std.append(accuracy_val)\n",
        "    print(\"%s: train = %.3f, validation = %.3f\" % (model_name, accuracy_train, accuracy_val))"
      ],
      "execution_count": 23,
      "outputs": [
        {
          "output_type": "stream",
          "name": "stdout",
          "text": [
            "Logistic Regression: train = 1.000, validation = 0.843\n",
            "Linear Discriminant Analysis: train = 1.000, validation = 0.745\n",
            "K-nearest neighbours: train = 0.891, validation = 0.725\n",
            "Decision Tree Classifier: train = 1.000, validation = 0.745\n",
            "Gaussian Naive Bayes: train = 0.874, validation = 0.863\n",
            "Support Vector Classifier: train = 0.983, validation = 0.843\n"
          ]
        }
      ]
    },
    {
      "cell_type": "markdown",
      "metadata": {
        "id": "9YJ-dF80R8Ga"
      },
      "source": [
        "Generally, in machine learning, we cannot say which classifier is the best until the implementation is done."
      ]
    },
    {
      "cell_type": "markdown",
      "metadata": {
        "id": "7rw4kpdUSM-M"
      },
      "source": [
        "Here, models have only been tested one time on the validation set. For more robustness let's try a cross validation !"
      ]
    },
    {
      "cell_type": "markdown",
      "metadata": {
        "id": "QlRPvWjXSM-N"
      },
      "source": [
        "#### K-fold cross validation\n",
        "\n",
        "Regarding the split of data, we have done so far\n",
        "- split our entire dataset into a \"global machine learning optimization\" set and a testing set.\n",
        "- split the \"global machine learning optimization\" set into a training set, used to optimize the parameters of decision systems, and a validation set for hyper-parameters tuning.\n",
        "\n",
        "This second split could have been done randomly and there is no reason to privilege some data samples over others. We could take the \"global machine learning optimization\" set and partition it into a new training set and new associated validation.\n",
        "\n",
        "Cross-validation is the process of simultaneously splitting a set into two sets multiple times, where for each split one set is used to train a model whose performance is computed on the other set. This should yield more robust estimators of performance without relying on more data."
      ]
    },
    {
      "cell_type": "markdown",
      "metadata": {
        "id": "0ZzOOWKqSM-T"
      },
      "source": [
        "**Exercice:** Complete the script bellow to:\n",
        "- implement the K-fold cross validation based on https://scikit-learn.org/stable/modules/generated/sklearn.model_selection.KFold.html\n",
        "- K-fold cross validation is performed as follows:\n",
        "  - Randomly split your entire dataset into k”folds”\n",
        "  - For each k-fold in your dataset, build your model on k – 1 folds of the dataset. Then, test the model to check the effectiveness for kth fold\n",
        "  - Save the error you see on each of the predictions\n",
        "  - Repeat this until each of the k-folds has served as the test set\n",
        "  - The average of your k recorded errors is called the cross-validation error and will serve as your performance metric for the model"
      ]
    },
    {
      "cell_type": "markdown",
      "metadata": {
        "id": "orBk-QsxSM-Y"
      },
      "source": [
        "Now, one of the most commonly asked questions is, “How to choose the right value of k?”.\n",
        "\n",
        "Always remember, a lower value of k is more biased, and hence undesirable. On the other hand, a higher value of K is less biased, but can suffer from large variability.\n",
        "\n",
        "A smaller value of k always takes us towards validation set approach, whereas a higher value of k leads to LOOCV approach.\n",
        "\n",
        "Precisely, LOOCV is equivalent to n-fold cross validation where n is the number of training examples."
      ]
    },
    {
      "cell_type": "markdown",
      "metadata": {
        "id": "1eikELg6SM-V"
      },
      "source": [
        "<a href=\"https://arxiv.org/pdf/1811.12808.pdf\">\n",
        "  <img src=\"images/cross_validation_method.png\" alt=\"cross_validation_method\" class=\"center\"  height=\"500\" width=\"500\" >\n",
        "</a>"
      ]
    },
    {
      "cell_type": "code",
      "metadata": {
        "id": "OqyQPcQgSM-a"
      },
      "source": [
        "#@title Exercise 3\n",
        "#@title  { display-mode: \"form\" }\n",
        "# %load solutions_exercices/cross_validation.py\n",
        "\n",
        "from sklearn.model_selection import KFold\n",
        "import numpy as np\n",
        "import pandas as pd\n",
        "\n",
        "\n",
        "def cross_validation(X, y, model, num_folds=5):\n",
        "    if isinstance(X, pd.DataFrame):\n",
        "        X = X.to_numpy()\n",
        "    if isinstance(y, pd.DataFrame):\n",
        "        y = y.to_numpy()\n",
        "\n",
        "    cv = KFold(n_splits=num_folds, random_state=123, shuffle=True)\n",
        "    results_train, results_test = [], []\n",
        "    for train_index, test_index in cv.split(X):\n",
        "        X_train, X_test, y_train, y_test = X[train_index], X[test_index], y[train_index], y[test_index]\n",
        "        clf = model.fit('''CompleteHere''', '''CompleteHere''')\n",
        "        accuracy_train = clf.score(X='''CompleteHere''', y='''CompleteHere''')\n",
        "        accuracy_test = clf.score(X='''CompleteHere''', y='''CompleteHere''')  # Return the mean accuracy\n",
        "        results_train.append(accuracy_train)\n",
        "        results_test.append(accuracy_test)\n",
        "    return '''CompleteHere''', '''CompleteHere'''\n"
      ],
      "execution_count": null,
      "outputs": []
    },
    {
      "cell_type": "code",
      "source": [
        "#@title Solution 3 { display-mode: \"form\" }\n",
        "# %load solutions_exercices/cross_validation.py\n",
        "\n",
        "from sklearn.model_selection import KFold\n",
        "import numpy as np\n",
        "import pandas as pd\n",
        "\n",
        "\n",
        "def cross_validation(X, y, model, num_folds=5):\n",
        "    if isinstance(X, pd.DataFrame):\n",
        "        X = X.to_numpy()\n",
        "    if isinstance(y, pd.DataFrame):\n",
        "        y = y.to_numpy()\n",
        "\n",
        "    cv = KFold(n_splits=num_folds, random_state=123, shuffle=True)\n",
        "    results_train, results_test = [], []\n",
        "    for train_index, test_index in cv.split(X):\n",
        "        X_train, X_test, y_train, y_test = X[train_index], X[test_index], y[train_index], y[test_index]\n",
        "        clf = model.fit(X_train, y_train)\n",
        "        accuracy_train = clf.score(X=X_train, y=y_train)\n",
        "        accuracy_test = clf.score(X=X_test, y=y_test)  # Return the mean accuracy\n",
        "        results_train.append(accuracy_train)\n",
        "        results_test.append(accuracy_test)\n",
        "    return results_train, results_test\n"
      ],
      "metadata": {
        "id": "dowAP__FP5kO"
      },
      "execution_count": 24,
      "outputs": []
    },
    {
      "cell_type": "markdown",
      "metadata": {
        "id": "qhKThTz3SM-n"
      },
      "source": [
        "We apply a cross validation using the <code>x_train</code> data"
      ]
    },
    {
      "cell_type": "code",
      "metadata": {
        "id": "Srv4tmGhSM_A"
      },
      "source": [
        "from sklearn.model_selection import KFold\n",
        "import numpy as np\n",
        "from sklearn.preprocessing import MinMaxScaler\n",
        "from sklearn.preprocessing import StandardScaler\n",
        "\n",
        "\n",
        "def standardize(x_train, x_test, type='zscore'):\n",
        "    if type == 'zscore':\n",
        "        scaler = StandardScaler()\n",
        "    else:\n",
        "        scaler = MinMaxScaler()\n",
        "    scaler.fit(x_train)\n",
        "    x_train_standardize = scaler.transform(x_train)\n",
        "    # We apply the same transform on the test\n",
        "    x_test_standardize = scaler.transform(x_test)\n",
        "    return x_train_standardize, x_test_standardize\n",
        "\n",
        "\n",
        "def cross_validation_with_standadization(X, y, model, num_folds=5):\n",
        "    if isinstance(X, pd.DataFrame):\n",
        "        X = X.to_numpy()\n",
        "    if isinstance(y, pd.DataFrame):\n",
        "        y = y.to_numpy()\n",
        "\n",
        "    cv = KFold(n_splits=num_folds, random_state=123, shuffle=True)\n",
        "    results_train, results_test = [], []\n",
        "    for train_index, test_index in cv.split(X):\n",
        "        X_train, X_test, y_train, y_test = X[train_index], X[test_index], y[train_index], y[test_index]\n",
        "\n",
        "         # standardize with z-score\n",
        "        X_train, X_test = standardize(x_train=X_train, x_test=X_test, type='zscore')\n",
        "\n",
        "        clf = model.fit(X_train, y_train)\n",
        "        accuracy_train = clf.score(X=X_train, y=y_train)\n",
        "        accuracy_test = clf.score(X=X_test, y=y_test)  # Return the mean accuracy\n",
        "        results_train.append(accuracy_train)\n",
        "        results_test.append(accuracy_test)\n",
        "    return results_train, results_test"
      ],
      "execution_count": 25,
      "outputs": []
    },
    {
      "cell_type": "code",
      "metadata": {
        "id": "fIqGmWecSM_H",
        "colab": {
          "base_uri": "https://localhost:8080/"
        },
        "outputId": "ebdbc526-003e-4c72-fb39-9e69afd13eeb"
      },
      "source": [
        "all_results_cv_train_w_std, all_results_cv_val_w_std, names = [], [], []\n",
        "for name, model in models:\n",
        "    names.append(name)\n",
        "    results_cv_train_w_std, results_cv_val_w_std = cross_validation_with_standadization(X=x_train, y=y_train, model=model, num_folds=5)\n",
        "    all_results_cv_train_w_std.append(results_cv_train_w_std)\n",
        "    all_results_cv_val_w_std.append(results_cv_val_w_std)\n",
        "    means_train, stds_train = np.mean(results_cv_train_w_std), np.std(results_cv_train_w_std)\n",
        "    means_val, stds_val = np.mean(results_cv_val_w_std), np.std(results_cv_val_w_std)\n",
        "    msg = \"%s: train = %.3f (+/- %.3f), test = %.3f (+/- %.3f)\" % (name, means_train, stds_train, means_val, stds_val)\n",
        "    print(msg)"
      ],
      "execution_count": 26,
      "outputs": [
        {
          "output_type": "stream",
          "name": "stdout",
          "text": [
            "Logistic Regression: train = 1.000 (+/- 0.000), test = 0.841 (+/- 0.078)\n",
            "Linear Discriminant Analysis: train = 1.000 (+/- 0.000), test = 0.800 (+/- 0.039)\n",
            "K-nearest neighbours: train = 0.901 (+/- 0.019), test = 0.841 (+/- 0.069)\n",
            "Decision Tree Classifier: train = 1.000 (+/- 0.000), test = 0.794 (+/- 0.053)\n",
            "Gaussian Naive Bayes: train = 0.876 (+/- 0.018), test = 0.847 (+/- 0.034)\n",
            "Support Vector Classifier: train = 0.976 (+/- 0.006), test = 0.829 (+/- 0.060)\n"
          ]
        }
      ]
    },
    {
      "cell_type": "markdown",
      "metadata": {
        "id": "TVDwmEvxSM_O"
      },
      "source": [
        "Compare the results of cross validation W/O standardization:"
      ]
    },
    {
      "cell_type": "code",
      "metadata": {
        "id": "CG8--v_2SM_S",
        "colab": {
          "base_uri": "https://localhost:8080/",
          "height": 976
        },
        "outputId": "188d6d05-43d4-4524-b5e4-de700f3d46c5"
      },
      "source": [
        "import matplotlib.pyplot as plt\n",
        "\n",
        "# boxplot algorithm comparison\n",
        "plt.figure(figsize=(15,10))\n",
        "\n",
        "ax = plt.subplot(122)\n",
        "plt.title('Algorithm Comparison using cross validation with preprocessing')\n",
        "plt.boxplot(all_results_cv_val_w_std)\n",
        "ax.set_ylim([0.60, 0.95])\n",
        "ax.set_xticklabels(names, rotation=40)\n",
        "plt.show();"
      ],
      "execution_count": 27,
      "outputs": [
        {
          "output_type": "display_data",
          "data": {
            "text/plain": [
              "<Figure size 1500x1000 with 1 Axes>"
            ],
            "image/png": "[encoded data removed]"
          },
          "metadata": {}
        }
      ]
    },
    {
      "cell_type": "markdown",
      "metadata": {
        "id": "XDeFa8mQSM_X"
      },
      "source": [
        "# 3) Overfitting and Underfitting"
      ]
    },
    {
      "cell_type": "markdown",
      "metadata": {
        "id": "kdQxGDfuSM_a"
      },
      "source": [
        "- **Overfitting**:  \n",
        "A model suffers from Overfitting when it has learned too much from the training data, and does not perform well in practice as a result. This is usually caused by the model having too much exposure to the training data.\n",
        "\n",
        "- **Underfitting**:  \n",
        "A model suffers from Underfitting when it has not learned enough from the training data, and does not perform well in practice as a result. As a direct contrast to the previous idea, this issue is caused by not letting the model learn enough from training data.\n",
        "\n",
        "<a href=\"https://arxiv.org/pdf/1811.12808.pdf\">\n",
        "  <img src=\"images/over_and_under_fitting.png\" alt=\"over_under_fitting\" class=\"center\"  height=\"400\" width=\"1000\" >\n",
        "</a>\n",
        "\n",
        "*How to detect overfitting?*  \n",
        "A key challenge with overfitting, and with machine learning in general, is that we **do not know how well our model will perform on new data until we actually test it.**\n",
        "\n",
        "To address this, we can split our initial dataset into separate training and test subsets. This method can approximate of how well our model will perform on new data. If our model does much better on the training set than on the test set, then we’re likely overfitting.\n",
        "For example, it would be a big red flag if our model saw 99% accuracy on the training set but only 55% accuracy on the test set.\n",
        "\n",
        "*How to prevent overfitting?*  \n",
        "- **Cross-validation**  \n",
        "The idea is clever: Use your initial training data to generate multiple mini train-test splits. Use these splits to tune your model.\n",
        "In standard k-fold cross-validation, we partition the data into k subsets, called folds. Then, we iteratively train the algorithm on k-1 folds while using the remaining fold as the test set (called the “holdout fold”). Cross-validation allows you to tune hyperparameters with only your original training set. This allows you to keep your test set as a truly unseen dataset for selecting your final model.\n",
        "- **Train with more data**  \n",
        "It will not work every time, but training with more data can help algorithms detect the signal better. Of course, that is not always the case. If we just add more noisy data, this technique won’t help. That is why you should always ensure your data is clean and relevant.\n",
        "- **Remove features**  \n",
        "Some algorithms have built-in feature selection. For those that do not, you can manually improve their generalizability by removing irrelevant input features.\n",
        "- **Regularization**  \n",
        "Regularization refers to a broad range of techniques for artificially forcing your model to be simpler. The method will depend on the type of learner you are using. For example, you could prune a decision tree, use dropout on a neural network, or add a penalty parameter to the cost function in regression.\n",
        "- **Also, Ensembling, early stopping ...**"
      ]
    },
    {
      "cell_type": "markdown",
      "metadata": {
        "id": "F9falgMUSM_b"
      },
      "source": [
        "# 4) Hyperparameters optimization"
      ]
    },
    {
      "cell_type": "markdown",
      "metadata": {
        "id": "-zRJ5ypiSM_d"
      },
      "source": [
        "Wikipedia states that \"hyperparameter tuning/optimizization is choosing a set of optimal hyperparameters for a learning algorithm\".\n",
        "So what is a hyperparameter?\n",
        "<div align=\"center\">\n",
        "    <i> a hyperparameter is a parameter whose value is set before the learning process begins </i>\n",
        "</div>\n",
        "\n",
        "Some examples of hyperparameters include penalty in logistic regression\n",
        "In sklearn, hyperparameters are passed as arguments of the constructor of the models classes.\n",
        "   \n",
        "**Tuning Strategies:**\n",
        " - Grid Search  \n",
        " Also known as an exhaustive search, Grid search looks through each combination of hyperparameters. This means that every combination of specified hyperparameter values will be tried.\n",
        " - Random Search  \n",
        " As its names suggests, Random Search uses random combinations of hyperparameters. This means that not all of the parameter values are tried, and instead, parameters will be sampled with fixed numbers of iterations.\n",
        "\n",
        "<a href=\"http://www.jmlr.org/papers/volume13/bergstra12a/bergstra12a.pdf\">\n",
        "  <img src=\"images/random_grid_search.png\" alt=\"random_grid_search class=\"center\"  height=\"400\" width=\"700\" >\n",
        "</a>"
      ]
    },
    {
      "cell_type": "markdown",
      "metadata": {
        "id": "nLSSI_hFSM_f"
      },
      "source": [
        "### Grid Search"
      ]
    },
    {
      "cell_type": "markdown",
      "metadata": {
        "id": "X8BEr4BvSM_h"
      },
      "source": [
        "We define a space for the Grid Search, we will work with z-score preprocessing in the pipeline"
      ]
    },
    {
      "cell_type": "code",
      "metadata": {
        "id": "yL7AzvrTSM_j"
      },
      "source": [
        "\"\"\"\n",
        "Create a dictionary with classifier name as a key and it's hyper parameters options as a value for grid search\n",
        "\"\"\"\n",
        "\n",
        "import numpy as np\n",
        "\n",
        "# Logistic Regression Params\n",
        "C = [x for x in np.arange(0.1, 3, 0.2)]\n",
        "penalty = [\"l1\", \"l2\"]\n",
        "fit_intercept = [True, False]\n",
        "solver = [\"saga\"]\n",
        "lr_params = {'C': C,\n",
        "             'penalty': penalty,\n",
        "             'fit_intercept': fit_intercept,\n",
        "             'solver': solver\n",
        "             }\n",
        "\n",
        "# DecisionTreeClassifier PARAMS\n",
        "criterion = ['gini', 'entropy']\n",
        "splitter = ['best', 'random']\n",
        "class_weight = [None, \"balanced\"]\n",
        "max_depth = [int(x) for x in np.linspace(10, 110, num=11)]\n",
        "max_depth.append(None)\n",
        "min_samples_split = [2, 5, 10]\n",
        "min_samples_leaf = [1, 2, 4]\n",
        "max_features = [\"auto\", \"sqrt\", \"log2\"]\n",
        "dtc_params = {'criterion': criterion,\n",
        "              'splitter': splitter,\n",
        "              'class_weight': class_weight,\n",
        "              'max_depth': max_depth,\n",
        "              'min_samples_split': min_samples_split,\n",
        "              'min_samples_leaf': min_samples_leaf,\n",
        "              'max_features': max_features\n",
        "              }\n",
        "\n",
        "# KNN PARAMS\n",
        "n_neighbors = [int(x) for x in np.linspace(start=1, stop=20, num=2)]\n",
        "weights = [\"uniform\", \"distance\"]\n",
        "algorithm = [\"auto\", \"ball_tree\", \"kd_tree\", \"brute\"]\n",
        "leaf_size = [int(x) for x in np.linspace(start=5, stop=50, num=2)]\n",
        "p = [int(x) for x in np.linspace(start=1, stop=4, num=1)]\n",
        "knn_params = {'n_neighbors': n_neighbors,\n",
        "              'weights': weights,\n",
        "              'algorithm': algorithm,\n",
        "              'leaf_size': leaf_size,\n",
        "              'p': p,\n",
        "              }\n",
        "\n",
        "# LDA PARAMS\n",
        "solver = [\"lsqr\"]\n",
        "shrinkage = [\"auto\", None, 0.1, 0.3, 0.5, 0.7, 0.9]\n",
        "lda_params = {'solver': solver,\n",
        "              'shrinkage': shrinkage\n",
        "              }\n",
        "\n",
        "# GaussianNB PARAMS\n",
        "var_smoothing = [1e-9, 1e-8, 1e-7, 1e-6, 1e-5] #Portion of the largest variance of all features that is added to variances for calculation stability\n",
        "gnb_params = {'var_smoothing': var_smoothing,\n",
        "              }\n",
        "\n",
        "# SVC PARAMS\n",
        "C = [x for x in np.arange(0.1, 2, 0.2)]\n",
        "gamma = [\"auto\"]\n",
        "kernel = [\"linear\", \"poly\", \"rbf\", \"sigmoid\"]\n",
        "degree = [1, 2, 3, 4, 5, 6]\n",
        "svc_params = {'C': C,\n",
        "              'gamma': gamma,\n",
        "              'kernel': kernel,\n",
        "              'degree': degree,\n",
        "              }\n",
        "\n",
        "hypertuned_params_gs = {\"Logistic Regression\": lr_params,\n",
        "                     \"Decision Tree Classifier\": dtc_params,\n",
        "                     \"K-nearest neighbours\": knn_params,\n",
        "                     \"Linear Discriminant Analysis\": lda_params,\n",
        "                     \"Gaussian Naive Bayes\": gnb_params,\n",
        "                     \"Support Vector Classifier\": svc_params,\n",
        "                     }\n"
      ],
      "execution_count": 28,
      "outputs": []
    },
    {
      "cell_type": "code",
      "metadata": {
        "id": "gNDsw331SNAD"
      },
      "source": [
        "# grid search function\n",
        "import numpy as np\n",
        "import warnings\n",
        "warnings.filterwarnings('ignore')\n",
        "\n",
        "def grid_search(X, y, name, model, param_grid, verbose=False):\n",
        "    names = []\n",
        "    names.append(name)\n",
        "    result_gs, max_val_mean_val = [], 0\n",
        "    for i, params in enumerate(param_grid): #enumerate: adds a counter to an iterable object\n",
        "        model = model.set_params(**params)\n",
        "        results_cv_train_w_std, results_cv_val_w_std = cross_validation_with_standadization(X=X, y=y, model=model, num_folds=5)\n",
        "        mean_train, std_train = np.mean(results_cv_train_w_std), np.std(results_cv_train_w_std)\n",
        "        mean_val, std_val = np.mean(results_cv_val_w_std), np.std(results_cv_val_w_std)\n",
        "        if verbose:\n",
        "            print(\"%s - iteration %i: %f (%f)\" % (name, i, mean_val, std_val))\n",
        "        if mean_val > max_val_mean_val:\n",
        "            max_val_mean_test = mean_val\n",
        "            max_val_std_val = std_val\n",
        "            max_val_mean_train = mean_train\n",
        "            max_val_std_train = std_train\n",
        "            max_i = i\n",
        "            best_params = param_grid[i]\n",
        "    msg = \"%s: Maximum value on validation = %.3f (+/- %.3f) with train = %.3f (+/- %.3f) for iteration %i with params: %s\" % (name, max_val_mean_test, max_val_std_val, max_val_mean_train, max_val_std_train, max_i, best_params)\n",
        "    print(msg)"
      ],
      "execution_count": 29,
      "outputs": []
    },
    {
      "cell_type": "code",
      "source": [
        "from sklearn.model_selection import ParameterGrid\n",
        "\n",
        "for name, model in models:\n",
        "    param_grid = list(ParameterGrid(hypertuned_params_gs[name]))\n",
        "    grid_search(X=x_train, y=y_train, name=name, model=model, param_grid=param_grid, verbose=False)  # you can set verbose to True to see each iteration"
      ],
      "metadata": {
        "id": "zZ0IZh9OEr3Y",
        "colab": {
          "base_uri": "https://localhost:8080/"
        },
        "outputId": "d9d32154-ac26-42c3-8c2e-04cd9efb5070"
      },
      "execution_count": 30,
      "outputs": [
        {
          "output_type": "stream",
          "name": "stdout",
          "text": [
            "Logistic Regression: Maximum value on validation = 0.871 (+/- 0.040) with train = 0.988 (+/- 0.012) for iteration 59 with params: {'C': 2.900000000000001, 'fit_intercept': False, 'penalty': 'l2', 'solver': 'saga'}\n",
            "Linear Discriminant Analysis: Maximum value on validation = 0.876 (+/- 0.060) with train = 0.901 (+/- 0.019) for iteration 6 with params: {'shrinkage': 0.9, 'solver': 'lsqr'}\n",
            "K-nearest neighbours: Maximum value on validation = 0.818 (+/- 0.101) with train = 1.000 (+/- 0.000) for iteration 31 with params: {'algorithm': 'brute', 'leaf_size': 50, 'n_neighbors': 20, 'p': 1, 'weights': 'distance'}\n",
            "Decision Tree Classifier: Maximum value on validation = 0.665 (+/- 0.090) with train = 0.835 (+/- 0.020) for iteration 2591 with params: {'class_weight': 'balanced', 'criterion': 'entropy', 'max_depth': None, 'max_features': 'log2', 'min_samples_leaf': 4, 'min_samples_split': 10, 'splitter': 'random'}\n",
            "Gaussian Naive Bayes: Maximum value on validation = 0.847 (+/- 0.034) with train = 0.876 (+/- 0.018) for iteration 4 with params: {'var_smoothing': 1e-05}\n",
            "Support Vector Classifier: Maximum value on validation = 0.835 (+/- 0.069) with train = 0.851 (+/- 0.009) for iteration 239 with params: {'C': 1.9000000000000004, 'degree': 6, 'gamma': 'auto', 'kernel': 'sigmoid'}\n"
          ]
        }
      ]
    },
    {
      "cell_type": "markdown",
      "metadata": {
        "id": "fRxWVXo0SNAS"
      },
      "source": [
        "As it is observed, the models' performance with the grid search hyperparameters tunings has been generally improved."
      ]
    },
    {
      "cell_type": "markdown",
      "metadata": {
        "id": "XyaTmT2aSNAT"
      },
      "source": [
        "### Random Search"
      ]
    },
    {
      "cell_type": "markdown",
      "metadata": {
        "id": "3CNO78j2SNAX"
      },
      "source": [
        "We define a space for the Random Search, we will works with z-score preprocessing in the pipeline"
      ]
    },
    {
      "cell_type": "code",
      "metadata": {
        "id": "ew_T4PGgSNAZ"
      },
      "source": [
        "\"\"\"\n",
        "Create a dictionary with classifier name as a key and it's hyper parameters options as a value for Random search\n",
        "\"\"\"\n",
        "\n",
        "import numpy as np\n",
        "from scipy.stats import uniform\n",
        "\n",
        "# Logistic Regression Params\n",
        "# Create regularization hyperparameter distribution using uniform distribution\n",
        "C = uniform(loc=0, scale=4)\n",
        "penalty = [\"l1\", \"l2\"]\n",
        "fit_intercept = [True, False]\n",
        "solver = [\"saga\"]\n",
        "lr_params = {'C': C,\n",
        "             'penalty': penalty,\n",
        "             'fit_intercept': fit_intercept,\n",
        "             'solver': solver\n",
        "             }\n",
        "\n",
        "# DecisionTreeClassifier PARAMS\n",
        "criterion = ['gini', 'entropy']\n",
        "splitter = ['best', 'random']\n",
        "class_weight = [None, \"balanced\"]\n",
        "max_depth = list(range(10, 501))\n",
        "max_depth.append(None)\n",
        "min_samples_split = list(range(2, 101))\n",
        "min_samples_leaf = list(range(1, 50))\n",
        "max_features = [\"auto\", \"sqrt\", \"log2\"]\n",
        "dtc_params = {'criterion': criterion,\n",
        "              'splitter': splitter,\n",
        "              'class_weight': class_weight,\n",
        "              'max_depth': max_depth,\n",
        "              'min_samples_split': min_samples_split,\n",
        "              'min_samples_leaf': min_samples_leaf,\n",
        "              'max_features': max_features\n",
        "              }\n",
        "\n",
        "# KNN PARAMS\n",
        "n_neighbors = list(range(1, 101))\n",
        "weights = [\"uniform\", \"distance\"]\n",
        "algorithm = [\"auto\", \"ball_tree\", \"kd_tree\", \"brute\"]\n",
        "leaf_size = list(range(2, 101))\n",
        "p = list(range(1, 11))\n",
        "knn_params = {'n_neighbors': n_neighbors,\n",
        "              'weights': weights,\n",
        "              'algorithm': algorithm,\n",
        "              'leaf_size': leaf_size,\n",
        "              'p': p,\n",
        "              }\n",
        "\n",
        "# LDA PARAMS\n",
        "solver = [\"lsqr\"]\n",
        "shrinkage = [\"auto\", None, 0.1, 0.3, 0.5, 0.7, 0.9]\n",
        "lda_params = {'solver': solver,\n",
        "              'shrinkage': shrinkage\n",
        "              }\n",
        "\n",
        "# GaussianNB PARAMS\n",
        "var_smoothing = uniform(loc=0, scale=0.1)\n",
        "gnb_params = {'var_smoothing': var_smoothing,\n",
        "              }\n",
        "\n",
        "# SVC PARAMS\n",
        "C =  uniform(loc=0, scale=2)\n",
        "gamma = [\"auto\"]\n",
        "kernel = [\"linear\", \"poly\", \"rbf\", \"sigmoid\"]\n",
        "degree = list(range(1,11))\n",
        "svc_params = {'C': C,\n",
        "              'gamma': gamma,\n",
        "              'kernel': kernel,\n",
        "              'degree': degree,\n",
        "              }\n",
        "\n",
        "hypertuned_params_rs = {\"Logistic Regression\": lr_params,\n",
        "                     \"Decision Tree Classifier\": dtc_params,\n",
        "                     \"K-nearest neighbours\": knn_params,\n",
        "                     \"Linear Discriminant Analysis\": lda_params,\n",
        "                     \"Gaussian Naive Bayes\": gnb_params,\n",
        "                     \"Support Vector Classifier\": svc_params,\n",
        "                     }"
      ],
      "execution_count": 31,
      "outputs": []
    },
    {
      "cell_type": "code",
      "metadata": {
        "id": "11OdRu3WSNAg"
      },
      "source": [
        "# random search function\n",
        "import random\n",
        "import warnings\n",
        "warnings.filterwarnings('ignore')\n",
        "\n",
        "def random_search(X, y, name, model, param_grid, nb_iterations, verbose=False):\n",
        "    best_params = []\n",
        "    names = []\n",
        "    names.append(name)\n",
        "    result_rs, max_val_mean_val = [], 0\n",
        "    for i in range(nb_iterations):\n",
        "        # create random param from the grid dict\n",
        "        params = {key: value.rvs() if isinstance(value, type(uniform())) else random.choice(value) for key, value in param_grid.items()}\n",
        "        model = model.set_params(**params)\n",
        "        results_cv_train_w_std, results_cv_val_w_std = cross_validation_with_standadization(X=X, y=y, model=model, num_folds=5)\n",
        "        mean_train, std_train = np.mean(results_cv_train_w_std), np.std(results_cv_train_w_std)\n",
        "        mean_test, std_val = np.mean(results_cv_val_w_std), np.std(results_cv_val_w_std)\n",
        "        if verbose:\n",
        "            print(\"%s - iteration %i: %f (%f)\" % (name, i, mean_test, std_val))\n",
        "        if mean_test > max_val_mean_val:\n",
        "            max_val_mean_test = mean_test\n",
        "            max_val_std_test = std_val\n",
        "            max_val_mean_train = mean_train\n",
        "            max_val_std_train = std_train\n",
        "            max_i = i\n",
        "            best_params = params\n",
        "    msg = \"%s: Maximum value on validation = %.3f (+/- %.3f) with train = %.3f (+/- %.3f) for iteration %i with params: %s\" % (name, max_val_mean_test, max_val_std_test, max_val_mean_train, max_val_std_train, max_i, best_params)\n",
        "    print(msg)"
      ],
      "execution_count": 32,
      "outputs": []
    },
    {
      "cell_type": "code",
      "metadata": {
        "id": "W_eGlkYCSNAm",
        "colab": {
          "base_uri": "https://localhost:8080/"
        },
        "outputId": "5a55996e-6cab-40f0-d123-7bd934792a47"
      },
      "source": [
        "for name, model in models:\n",
        "    dic_grid = hypertuned_params_rs[name]\n",
        "    random_search(X=x_train, y=y_train, name=name, model=model, param_grid=dic_grid, nb_iterations=100, verbose=False)  # you can set verbose to True to see each iteration"
      ],
      "execution_count": 33,
      "outputs": [
        {
          "output_type": "stream",
          "name": "stdout",
          "text": [
            "Logistic Regression: Maximum value on validation = 0.871 (+/- 0.058) with train = 0.981 (+/- 0.010) for iteration 99 with params: {'C': 3.9468943018020877, 'penalty': 'l1', 'fit_intercept': True, 'solver': 'saga'}\n",
            "Linear Discriminant Analysis: Maximum value on validation = 0.871 (+/- 0.058) with train = 0.966 (+/- 0.007) for iteration 99 with params: {'solver': 'lsqr', 'shrinkage': 0.3}\n",
            "K-nearest neighbours: Maximum value on validation = 0.647 (+/- 0.081) with train = 0.662 (+/- 0.034) for iteration 99 with params: {'n_neighbors': 70, 'weights': 'uniform', 'algorithm': 'brute', 'leaf_size': 66, 'p': 2}\n",
            "Decision Tree Classifier: Maximum value on validation = 0.812 (+/- 0.099) with train = 0.834 (+/- 0.055) for iteration 99 with params: {'criterion': 'gini', 'splitter': 'best', 'class_weight': 'balanced', 'max_depth': 333, 'min_samples_split': 84, 'min_samples_leaf': 22, 'max_features': 'log2'}\n",
            "Gaussian Naive Bayes: Maximum value on validation = 0.841 (+/- 0.040) with train = 0.875 (+/- 0.013) for iteration 99 with params: {'var_smoothing': 0.05666067408877025}\n",
            "Support Vector Classifier: Maximum value on validation = 0.800 (+/- 0.057) with train = 1.000 (+/- 0.000) for iteration 99 with params: {'C': 0.3035891987070527, 'gamma': 'auto', 'kernel': 'linear', 'degree': 5}\n"
          ]
        }
      ]
    },
    {
      "cell_type": "markdown",
      "metadata": {
        "id": "HOuy4k5wSNA1"
      },
      "source": [
        "Here, we have implemented our own Grid Search and Random Search function to understand the mechanism. Sklearn directly implements the functions, [Random Search](https://scikit-learn.org/stable/modules/generated/sklearn.model_selection.RandomizedSearchCV.html) and [Grid Search](https://scikit-learn.org/stable/modules/generated/sklearn.model_selection.GridSearchCV.html)"
      ]
    },
    {
      "cell_type": "markdown",
      "metadata": {
        "id": "aFy8XnzzSNBP"
      },
      "source": [
        "# 5) Ensembling"
      ]
    },
    {
      "cell_type": "markdown",
      "metadata": {
        "id": "ukGBPl70SNBR"
      },
      "source": [
        "''No free lunch theorem'' states that no machine learning algorithm is universally better than the others in all domains. The goal of ensembling is to combine multiple learner to improve the applicability and get better performance. But always remember, if two models have comparable performance, then you should usually pick the simpler one. [Occam's razor](https://simple.wikipedia.org/wiki/Occam%27s_razor)"
      ]
    },
    {
      "cell_type": "markdown",
      "metadata": {
        "id": "lG8LeKCESNBU"
      },
      "source": [
        "### Voting"
      ]
    },
    {
      "cell_type": "markdown",
      "metadata": {
        "id": "WpuYrDetSNBX"
      },
      "source": [
        "Voting is arguably the most straightforward way to combine multiple learners $d^{(j)}(\\cdot)$. The idea is to take a linear combination of the predictions made by the learners. For example, in multiclass classification, we have\n",
        "$$\\tilde{y}_k =\\sum_j^L w_j d^{(j)}_k(\\boldsymbol{x}), \\text{ where }w_j\\geq 0\\text{ and }\\sum_j w_j=1,$$<p>for any class $k$, where $L$ is the number of voters. This can be simplified to the <strong>plurarity vote</strong> where each voter has the same weight:</p>\n",
        "$$\\tilde{y}_k =\\sum_j \\frac{1}{L} d^{(j)}_k(\\boldsymbol{x}).$$<p> We use the <code>VotingClassifier</code> from Scikit-learn to combine several classifiers.</p>\n",
        "\n",
        "We will use the Sklearn <code>Pipeline</code> tools which allow to combine all the steps we have seen previously\n"
      ]
    },
    {
      "cell_type": "code",
      "metadata": {
        "id": "LICaKWRcSNBY"
      },
      "source": [
        "from sklearn.pipeline import Pipeline\n",
        "from sklearn.linear_model import LogisticRegression\n",
        "from sklearn.tree import DecisionTreeClassifier\n",
        "from sklearn.neighbors import KNeighborsClassifier\n",
        "from sklearn.discriminant_analysis import LinearDiscriminantAnalysis\n",
        "from sklearn.naive_bayes import GaussianNB\n",
        "from sklearn.svm import SVC\n",
        "\n",
        "pipe1 = Pipeline([['sc', StandardScaler()], ['clf', LogisticRegression(**{'C': 0.1, 'fit_intercept': True, 'penalty': 'l1', 'solver': 'saga'}, random_state=random_state)]])\n",
        "pipe2 = Pipeline([['clf', DecisionTreeClassifier(**{'class_weight': None, 'criterion': 'gini', 'max_depth': 80, 'max_features': 'log2', 'min_samples_leaf': 1, 'min_samples_split': 10, 'splitter': 'best'}, random_state=random_state)]])\n",
        "pipe3 = Pipeline([['sc', StandardScaler()], ['clf', KNeighborsClassifier(**{'algorithm': 'auto', 'leaf_size': 5, 'n_neighbors': 20, 'p': 1, 'weights': 'distance'})]])\n",
        "pipe4 = Pipeline([['sc', StandardScaler()], ['clf', LinearDiscriminantAnalysis(**{'shrinkage': 0.7, 'solver': 'lsqr'})]])\n",
        "pipe5 = Pipeline([['sc', StandardScaler()], ['clf', GaussianNB(**{'var_smoothing': 1e-09})]])\n",
        "pipe6 = Pipeline([['sc', StandardScaler()], ['clf', SVC(**{'C': 0.5, 'degree': 1, 'gamma': 'auto', 'kernel': 'sigmoid', 'probability': True}, random_state=random_state)]])"
      ],
      "execution_count": 34,
      "outputs": []
    },
    {
      "cell_type": "markdown",
      "metadata": {
        "id": "0ARQMF5DSNBe"
      },
      "source": [
        "We can estimate the performance of individual classifiers via the 5-fold CV:"
      ]
    },
    {
      "cell_type": "code",
      "metadata": {
        "id": "GPDX2-OASNBj",
        "colab": {
          "base_uri": "https://localhost:8080/"
        },
        "outputId": "902cad83-18cf-4455-a37e-4166db73d3c0"
      },
      "source": [
        "from sklearn.model_selection import cross_validate\n",
        "\n",
        "clf_labels = ['LR', 'DTC', 'KNN', 'LDA', 'GNB', 'SVC']\n",
        "print('[Individual]')\n",
        "for pipe, label in zip([pipe1, pipe2, pipe3, pipe4, pipe5, pipe6], clf_labels):\n",
        "    results = cross_validate(estimator=pipe, X=x_train, y=y_train, cv=5, scoring='accuracy', return_train_score=True)\n",
        "    scores_val = results['test_score']\n",
        "    scores_train = results['train_score']\n",
        "    print('%s: train = %.3f (+/- %.3f), validation = %.3f (+/- %.3f)' % (label, scores_train.mean(), scores_train.std(), scores_val.mean(), scores_val.std()))"
      ],
      "execution_count": 35,
      "outputs": [
        {
          "output_type": "stream",
          "name": "stdout",
          "text": [
            "[Individual]\n",
            "LR: train = 0.890 (+/- 0.009), validation = 0.876 (+/- 0.034)\n",
            "DTC: train = 0.971 (+/- 0.010), validation = 0.794 (+/- 0.118)\n",
            "KNN: train = 1.000 (+/- 0.000), validation = 0.835 (+/- 0.092)\n",
            "LDA: train = 0.921 (+/- 0.018), validation = 0.871 (+/- 0.048)\n",
            "GNB: train = 0.879 (+/- 0.018), validation = 0.818 (+/- 0.057)\n",
            "SVC: train = 0.879 (+/- 0.012), validation = 0.888 (+/- 0.043)\n"
          ]
        }
      ]
    },
    {
      "cell_type": "markdown",
      "metadata": {
        "id": "VJotcstcSNBo"
      },
      "source": [
        "We combine the classifiers by <code>VotingClassifer</code> from Scikit-learn and experiment some weight combinations:"
      ]
    },
    {
      "cell_type": "code",
      "metadata": {
        "id": "Zlu_2z9WSNBp",
        "colab": {
          "base_uri": "https://localhost:8080/"
        },
        "outputId": "e5959948-9fcf-4c3f-b963-3b97a072d229"
      },
      "source": [
        "from sklearn.ensemble import VotingClassifier\n",
        "import itertools\n",
        "\n",
        "print('[Voting]')\n",
        "best_vt, best_w, best_val_score, best_train_score = None, (), -1, 1\n",
        "for a, b, c in list(itertools.permutations(range(0,3))): # try some weight combination\n",
        "    clf = VotingClassifier(estimators=[('dtc', pipe2), ('knn', pipe3), ('svc', pipe6)],\n",
        "                           voting='soft', weights=[a,b,c])\n",
        "    results = cross_validate(estimator=clf, X=x_train, y=y_train, cv=5, scoring='accuracy', return_train_score=True)\n",
        "    scores_val = results['test_score']\n",
        "    scores_train = results['train_score']\n",
        "    print('%s: train = %.3f (+/- %.3f), validation = %.3f (+/- %.3f)' % ((a,b,c), scores_train.mean(), scores_train.std(), scores_val.mean(), scores_val.std()))\n",
        "    if best_val_score < scores_val.mean() and best_train_score > scores_train.mean():\n",
        "        best_vt, best_w, best_val_score = clf, (a, b, c), scores_val.mean()\n",
        "\n",
        "print('\\nBest %s: %.3f' % (best_w, best_val_score))"
      ],
      "execution_count": 36,
      "outputs": [
        {
          "output_type": "stream",
          "name": "stdout",
          "text": [
            "[Voting]\n",
            "(0, 1, 2): train = 0.944 (+/- 0.007), validation = 0.876 (+/- 0.051)\n",
            "(0, 2, 1): train = 1.000 (+/- 0.000), validation = 0.859 (+/- 0.073)\n",
            "(1, 0, 2): train = 0.932 (+/- 0.009), validation = 0.871 (+/- 0.071)\n",
            "(1, 2, 0): train = 1.000 (+/- 0.000), validation = 0.841 (+/- 0.080)\n",
            "(2, 0, 1): train = 0.972 (+/- 0.012), validation = 0.812 (+/- 0.105)\n",
            "(2, 1, 0): train = 0.990 (+/- 0.007), validation = 0.800 (+/- 0.121)\n",
            "\n",
            "Best (0, 1, 2): 0.876\n"
          ]
        }
      ]
    },
    {
      "cell_type": "markdown",
      "metadata": {
        "id": "gNd7Zji6SNBu"
      },
      "source": [
        "The best ensemble combines the <code>KNeighborsClassifier</code> and <code>SVC</code>."
      ]
    },
    {
      "cell_type": "markdown",
      "metadata": {
        "id": "gabgxFJFSNBv"
      },
      "source": [
        "# 6) Final prediction and Evaluation metrics ************************"
      ]
    },
    {
      "cell_type": "markdown",
      "metadata": {
        "id": "UIoe_ZlYSNBw"
      },
      "source": [
        "This is the moment you have been waiting for! We will finally be able to evaluate our test set. Our final model will be an ensemble and combines the <code>KNeighborsClassifier </code> and <code>SVC</code> with a z-score features preprocessing. A decision tree does not need a z-score preprocessing because by nature the algorithm is scale invariant. Now, we fit the model on all the training data as follows:"
      ]
    },
    {
      "cell_type": "code",
      "metadata": {
        "id": "KannU_dNSNBx",
        "colab": {
          "base_uri": "https://localhost:8080/"
        },
        "outputId": "ccf0d4d3-089a-4b42-9810-9710bd199085"
      },
      "source": [
        "from sklearn.ensemble import VotingClassifier\n",
        "from sklearn.pipeline import Pipeline\n",
        "from sklearn.tree import DecisionTreeClassifier\n",
        "from sklearn.svm import SVC\n",
        "from sklearn.metrics import roc_curve, confusion_matrix, auc, ConfusionMatrixDisplay, RocCurveDisplay\n",
        "\n",
        "pipe3 = Pipeline([['sc', StandardScaler()], ['clf', KNeighborsClassifier(**{'algorithm': 'auto', 'leaf_size': 5, 'n_neighbors': 20, 'p': 1, 'weights': 'distance'})]])\n",
        "pipe6 = Pipeline([['sc', StandardScaler()], ['clf', SVC(**{'C': 0.5000000000000001, 'degree': 1, 'gamma': 'auto', 'kernel': 'sigmoid', 'probability': True})]])\n",
        "\n",
        "clf = VotingClassifier(estimators=[('knn', pipe3), ('svc', pipe6)], voting='soft', weights=[1,2])\n",
        "clf.fit(x_train, y_train)\n",
        "classes = clf.classes_ #number of classes\n",
        "\n",
        "# Here we have the probabilty associate to each classes\n",
        "proba_test = clf.predict_proba(x_test)[:,1] # [:,1] referes to the second class HGG\n",
        "y_pred = np.where(proba_test>0.5, 1, 0) # Here we have the prediction\n",
        "\n",
        "\n",
        "# 1 -- Confusion matrix\n",
        "cm = confusion_matrix(y_test, y_pred)\n",
        "\n",
        "# 2 -- ROC curve\n",
        "fp_rates, tp_rates, _ = roc_curve(y_test, proba_test, pos_label=1)\n",
        "roc_auc = auc(fp_rates, tp_rates)\n",
        "\n",
        "tn, fp, fn, tp = [i for i in cm.ravel()]\n",
        "\n",
        "# 3 -- Calculate each metrics\n",
        "precision = tp / (tp + fp)\n",
        "recall = tp / (tp + fn)\n",
        "F1 = 2 * (precision * recall) / (precision + recall)\n",
        "accuracy = (tn + tp) / (tn + fp + fn + tp)\n",
        "\n",
        "printout = (\n",
        "        f'Precision: {round(precision, 3)} | '\n",
        "        f'Recall: {round(recall, 3)} | '\n",
        "        f'F1 Score: {round(F1, 3)} | '\n",
        "        f'Accuracy Score: {round(accuracy, 3)} | '\n",
        "        f'ROC auc: {round(roc_auc, 3)} | '\n",
        "\n",
        "    )\n",
        "print(printout)\n"
      ],
      "execution_count": 38,
      "outputs": [
        {
          "output_type": "stream",
          "name": "stdout",
          "text": [
            "Precision: 0.881 | Recall: 0.902 | F1 Score: 0.892 | Accuracy Score: 0.877 | ROC auc: 0.942 | \n"
          ]
        }
      ]
    },
    {
      "cell_type": "markdown",
      "metadata": {
        "id": "hUKDgBwBASrd"
      },
      "source": [
        "Now, we evaluate the classifier based on different metrics.\n",
        "Plot confusion matrix and ROC curve:"
      ]
    },
    {
      "cell_type": "code",
      "metadata": {
        "id": "6-skpMrqAQ11",
        "colab": {
          "base_uri": "https://localhost:8080/",
          "height": 881
        },
        "outputId": "6b1f84ef-77ee-4cb6-eba4-63ae0e308e92"
      },
      "source": [
        "ConfusionMatrixDisplay.from_estimator(clf, x_test, y_test);\n",
        "RocCurveDisplay.from_estimator(clf, x_test, y_test);"
      ],
      "execution_count": 39,
      "outputs": [
        {
          "output_type": "display_data",
          "data": {
            "text/plain": [
              "<Figure size 640x480 with 2 Axes>"
            ],
            "image/png": "[encoded data removed]"
          },
          "metadata": {}
        },
        {
          "output_type": "display_data",
          "data": {
            "text/plain": [
              "<Figure size 640x480 with 1 Axes>"
            ],
            "image/png": "[encoded data removed]"
          },
          "metadata": {}
        }
      ]
    },
    {
      "cell_type": "markdown",
      "metadata": {
        "id": "f3ExnZBKSNCC"
      },
      "source": [
        "Distribution of predicted probabilty for each class"
      ]
    },
    {
      "cell_type": "code",
      "metadata": {
        "id": "5BSCoEchSNCD",
        "colab": {
          "base_uri": "https://localhost:8080/",
          "height": 493
        },
        "outputId": "ebba4f28-a262-4eb6-bb60-bc87f4f28ba5"
      },
      "source": [
        "df = pd.DataFrame({'probPos': proba_test, 'target': y_test})\n",
        "plt.figure(figsize=(10,5))\n",
        "plt.hist(df[df.target == 0].probPos, density=True, bins=25,\n",
        "             alpha=.5, color='green', label='LGG')\n",
        "plt.hist(df[df.target == 1].probPos, density=True, bins=25,\n",
        "             alpha=.5, color='red', label='HGG')\n",
        "plt.axvline(.5, color='blue', linestyle='--', label='Boundary')\n",
        "plt.xlim([0, 1])\n",
        "plt.title('Distributions of Predictions', size=15)\n",
        "plt.xlabel('Positive Probability (predicted)', size=13)\n",
        "plt.ylabel('Samples (normalized scale)', size=13)\n",
        "plt.legend(loc=\"upper right\")\n",
        "plt.show();"
      ],
      "execution_count": 40,
      "outputs": [
        {
          "output_type": "display_data",
          "data": {
            "text/plain": [
              "<Figure size 1000x500 with 1 Axes>"
            ],
            "image/png": "[encoded data removed]"
          },
          "metadata": {}
        }
      ]
    }
  ]
}